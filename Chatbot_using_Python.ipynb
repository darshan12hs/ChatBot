{
  "nbformat": 4,
  "nbformat_minor": 0,
  "metadata": {
    "colab": {
      "provenance": [],
      "gpuType": "V28"
    },
    "kernelspec": {
      "name": "python3",
      "display_name": "Python 3"
    },
    "language_info": {
      "name": "python"
    },
    "accelerator": "TPU"
  },
  "cells": [
    {
      "cell_type": "code",
      "execution_count": null,
      "metadata": {
        "id": "lu4rQJE8PHJD"
      },
      "outputs": [],
      "source": [
        "# !pip install langchain\n",
        "# !pip install langchain_community\n",
        "# !pip install huggingface-hub"
      ]
    },
    {
      "cell_type": "markdown",
      "source": [
        "## HuggingFace ChatBot"
      ],
      "metadata": {
        "id": "H4F5s8BId0KR"
      }
    },
    {
      "cell_type": "code",
      "source": [
        "import os\n",
        "os.environ[\"HUGGINGFACEHUB_API_TOKEN\"] = \"hf_rk\""
      ],
      "metadata": {
        "id": "67oZY3FZQY_H"
      },
      "execution_count": null,
      "outputs": []
    },
    {
      "cell_type": "code",
      "source": [
        "from langchain.llms import HuggingFaceHub\n",
        "\n",
        "llm = HuggingFaceHub(repo_id=\"google/flan-t5-large\")"
      ],
      "metadata": {
        "id": "nCrLGIk9Qrut"
      },
      "execution_count": null,
      "outputs": []
    },
    {
      "cell_type": "code",
      "source": [
        "query = \"What is famous in Deutschland?\"\n",
        "completion = llm(query)\n",
        "print(completion)"
      ],
      "metadata": {
        "colab": {
          "base_uri": "https://localhost:8080/"
        },
        "id": "4g_f2dJOQ50b",
        "outputId": "a72f2c78-f9cd-4d7a-9206-e5b01be693eb"
      },
      "execution_count": null,
      "outputs": [
        {
          "output_type": "stream",
          "name": "stdout",
          "text": [
            "deutsches Reich\n"
          ]
        }
      ]
    },
    {
      "cell_type": "code",
      "source": [
        "query = \"What is Deutschland known for?\"\n",
        "completion = llm(query)\n",
        "print(completion)"
      ],
      "metadata": {
        "colab": {
          "base_uri": "https://localhost:8080/"
        },
        "id": "vhVq7r1WUC7x",
        "outputId": "ff1f385a-dbee-4aa7-891d-4d4ad4731358"
      },
      "execution_count": null,
      "outputs": [
        {
          "output_type": "stream",
          "name": "stdout",
          "text": [
            "beer\n"
          ]
        }
      ]
    },
    {
      "cell_type": "code",
      "source": [
        "query = \"Who is the President of Deutschland?\"\n",
        "completion = llm(query)\n",
        "print(completion)"
      ],
      "metadata": {
        "colab": {
          "base_uri": "https://localhost:8080/"
        },
        "id": "9QRXuO7sbD3-",
        "outputId": "d556ed4c-9dd8-4da4-cdc7-560af30ca953"
      },
      "execution_count": null,
      "outputs": [
        {
          "output_type": "stream",
          "name": "stdout",
          "text": [
            "gerhard schroeder\n"
          ]
        }
      ]
    },
    {
      "cell_type": "code",
      "source": [
        "query = \"Which year gerhard schroeder was the President of Deutschland?\"\n",
        "completion = llm(query)\n",
        "print(completion)"
      ],
      "metadata": {
        "colab": {
          "base_uri": "https://localhost:8080/"
        },
        "id": "kDielqAhbQqQ",
        "outputId": "da71cf7a-8622-4a13-dcf6-369315e5315e"
      },
      "execution_count": null,
      "outputs": [
        {
          "output_type": "stream",
          "name": "stdout",
          "text": [
            "1989\n"
          ]
        }
      ]
    },
    {
      "cell_type": "markdown",
      "source": [
        "## OpenAI ChatBot"
      ],
      "metadata": {
        "id": "R1c_8kiVd7KY"
      }
    },
    {
      "cell_type": "code",
      "source": [
        "# !pip install openai"
      ],
      "metadata": {
        "id": "Fw9R7pQehQS9"
      },
      "execution_count": null,
      "outputs": []
    },
    {
      "cell_type": "code",
      "source": [
        "os.environ[\"OPENAI_API_KEY\"] = \"sk-elB1NqOl\""
      ],
      "metadata": {
        "id": "8eLbA7eHbmM0"
      },
      "execution_count": null,
      "outputs": []
    },
    {
      "cell_type": "code",
      "source": [
        "from langchain.chat_models import ChatOpenAI"
      ],
      "metadata": {
        "id": "BZB920QjhkNg"
      },
      "execution_count": null,
      "outputs": []
    },
    {
      "cell_type": "code",
      "source": [
        "from langchain.schema import HumanMessage, SystemMessage, AIMessage"
      ],
      "metadata": {
        "id": "nvBzB4Vbhzje"
      },
      "execution_count": null,
      "outputs": []
    },
    {
      "cell_type": "code",
      "source": [
        "chat = ChatOpenAI(temperature=0.7, model='gpt-3.5-turbo') # temperature maximise randomness and make output creative"
      ],
      "metadata": {
        "id": "lfP2Gxirh_6s",
        "colab": {
          "base_uri": "https://localhost:8080/"
        },
        "outputId": "d2c82bc1-13a7-4d51-f90e-2d7659a2eb37"
      },
      "execution_count": null,
      "outputs": [
        {
          "output_type": "stream",
          "name": "stderr",
          "text": [
            "<ipython-input-10-23b4d42774f2>:1: LangChainDeprecationWarning: The class `ChatOpenAI` was deprecated in LangChain 0.0.10 and will be removed in 1.0. An updated version of the class exists in the :class:`~langchain-openai package and should be used instead. To use it run `pip install -U :class:`~langchain-openai` and import as `from :class:`~langchain_openai import ChatOpenAI``.\n",
            "  chat = ChatOpenAI(temperature=0.7, model='gpt-3.5-turbo') # temperature maximise randomness and make output creative\n"
          ]
        }
      ]
    },
    {
      "cell_type": "code",
      "source": [
        "chat([\n",
        "    SystemMessage(content=\"You are an AI assistant\"),\n",
        "    HumanMessage(content=\"Please answer in 20 words: What is the famous place in Deutschland\")\n",
        "]).content"
      ],
      "metadata": {
        "colab": {
          "base_uri": "https://localhost:8080/",
          "height": 36
        },
        "id": "cUdx6S4qikS3",
        "outputId": "36475260-e687-4b1b-aeec-08da24e5fc46"
      },
      "execution_count": null,
      "outputs": [
        {
          "output_type": "execute_result",
          "data": {
            "text/plain": [
              "'The Brandenburg Gate in Berlin is a famous landmark in Deutschland, symbolizing unity and freedom.'"
            ],
            "application/vnd.google.colaboratory.intrinsic+json": {
              "type": "string"
            }
          },
          "metadata": {},
          "execution_count": 15
        }
      ]
    },
    {
      "cell_type": "code",
      "source": [
        "chat([\n",
        "    SystemMessage(content=\"You are a sarcastic AI assistant\"),\n",
        "    HumanMessage(content=\"Please answer in 20 words: Which is the best city in Deutschland\")\n",
        "]).content"
      ],
      "metadata": {
        "colab": {
          "base_uri": "https://localhost:8080/",
          "height": 36
        },
        "id": "NDEHVTa1jlRN",
        "outputId": "9d5daa07-0bc9-40c0-bbf8-bf7e725c4dda"
      },
      "execution_count": null,
      "outputs": [
        {
          "output_type": "execute_result",
          "data": {
            "text/plain": [
              "\"Oh, that's an easy one - every city in Germany is equally amazing and definitely the best, right?\""
            ],
            "application/vnd.google.colaboratory.intrinsic+json": {
              "type": "string"
            }
          },
          "metadata": {},
          "execution_count": 16
        }
      ]
    },
    {
      "cell_type": "code",
      "source": [
        "chat([\n",
        "    SystemMessage(content=\"You answer like a child\"),\n",
        "    HumanMessage(content=\"Which is the best football team in the World?\"),\n",
        "    AIMessage(content=\"I like Messi, so his team is the best\"),\n",
        "    HumanMessage(content=\"Which country has best players in Football\")\n",
        "]).content"
      ],
      "metadata": {
        "colab": {
          "base_uri": "https://localhost:8080/",
          "height": 36
        },
        "id": "60Nz2Q52klSL",
        "outputId": "46d447c0-c4ea-4145-a839-861cdb333668"
      },
      "execution_count": null,
      "outputs": [
        {
          "output_type": "execute_result",
          "data": {
            "text/plain": [
              "'My friend told me Brazil has the best players because they are really good at soccer!'"
            ],
            "application/vnd.google.colaboratory.intrinsic+json": {
              "type": "string"
            }
          },
          "metadata": {},
          "execution_count": 17
        }
      ]
    },
    {
      "cell_type": "markdown",
      "source": [
        "## ChatBot for PDF"
      ],
      "metadata": {
        "id": "jfEJQ5x-zW41"
      }
    },
    {
      "cell_type": "code",
      "source": [
        "# !pip install langchain\n",
        "# !pip install openai\n",
        "# !pip install huggingface-hub\n",
        "# !pip install faiss-cpu\n",
        "# !pip install PyPDF2\n",
        "# !pip install langchain-community"
      ],
      "metadata": {
        "id": "c9VKb9ukm2DK"
      },
      "execution_count": null,
      "outputs": []
    },
    {
      "cell_type": "code",
      "source": [
        "from PyPDF2 import PdfReader\n",
        "from langchain.embeddings.openai import OpenAIEmbeddings\n",
        "from langchain.text_splitter import CharacterTextSplitter\n",
        "from langchain.vectorstores import FAISS\n",
        "from langchain.chains.question_answering import load_qa_chain"
      ],
      "metadata": {
        "id": "rLfOa51HztTC"
      },
      "execution_count": null,
      "outputs": []
    },
    {
      "cell_type": "code",
      "source": [
        "import os\n",
        "os.environ['OPENAI_API_KEY'] = \"sk-elB1NqOl\""
      ],
      "metadata": {
        "id": "JlQbwHTo0z_8"
      },
      "execution_count": null,
      "outputs": []
    },
    {
      "cell_type": "code",
      "source": [
        "from langchain.llms import OpenAI"
      ],
      "metadata": {
        "id": "g22ijJQ41xo0"
      },
      "execution_count": null,
      "outputs": []
    },
    {
      "cell_type": "code",
      "source": [
        "llm = OpenAI(model_name='gpt-3.5-turbo-instruct', temperature=0.7)"
      ],
      "metadata": {
        "colab": {
          "base_uri": "https://localhost:8080/"
        },
        "id": "ZrtMJ4f816di",
        "outputId": "3c6169e0-347c-43e3-dffd-ca92083377c5"
      },
      "execution_count": null,
      "outputs": [
        {
          "output_type": "stream",
          "name": "stderr",
          "text": [
            "<ipython-input-21-cd8ddcceaed6>:1: LangChainDeprecationWarning: The class `OpenAI` was deprecated in LangChain 0.0.10 and will be removed in 1.0. An updated version of the class exists in the :class:`~langchain-openai package and should be used instead. To use it run `pip install -U :class:`~langchain-openai` and import as `from :class:`~langchain_openai import OpenAI``.\n",
            "  llm = OpenAI(model_name='gpt-3.5-turbo-instruct', temperature=0.7)\n"
          ]
        }
      ]
    },
    {
      "cell_type": "code",
      "source": [
        "data = PdfReader(\"/content/1KOMMA5_Cover-Letter.pdf\")\n",
        "data"
      ],
      "metadata": {
        "colab": {
          "base_uri": "https://localhost:8080/"
        },
        "id": "3s2ATIXz2DkG",
        "outputId": "a19be861-8291-4854-ea05-345a15ac756b"
      },
      "execution_count": null,
      "outputs": [
        {
          "output_type": "execute_result",
          "data": {
            "text/plain": [
              "<PyPDF2._reader.PdfReader at 0x7fcdbf4d23b0>"
            ]
          },
          "metadata": {},
          "execution_count": 48
        }
      ]
    },
    {
      "cell_type": "code",
      "source": [
        "combined_text =\"\"\n",
        "for i, page in enumerate(data.pages):\n",
        "    text = page.extract_text()\n",
        "    if text:\n",
        "        combined_text += text"
      ],
      "metadata": {
        "id": "idlZehYc3JlT"
      },
      "execution_count": null,
      "outputs": []
    },
    {
      "cell_type": "code",
      "source": [
        "combined_text"
      ],
      "metadata": {
        "colab": {
          "base_uri": "https://localhost:8080/",
          "height": 145
        },
        "id": "UYJuHUww3QCr",
        "outputId": "8b7b03af-4f4f-4a95-ff02-ffb8545a7dbf"
      },
      "execution_count": null,
      "outputs": [
        {
          "output_type": "execute_result",
          "data": {
            "text/plain": [
              "'Darshan Hassan Shivakumar  \\n+49 0176 -67751926  \\nDeggendorf, Bavaria  \\ndarshan12hs@gmail.com  \\nLinkedIn  | GitHub  \\nSubject: Application for the Position of Working Student Data Science  \\nHi, \\nI am writing  to express my interest in the position of Working Student Data Science at \\n1KOMMA5 . With a strong background  in data engineering and currently pursuing a Master’s \\ndegree in Artificial Intelligence and Data Science, I am eager to bring my expertise to your \\ninnovative team.  \\nDuring my tenure at Cognizant in Bengaluru, India, I developed my skills as a Data Engineer , \\nfocusing on AI tool development, converting TeraData SQL scripts to PySpark, and building \\nETL pipelines using Informatica Power Center and Google Cloud Platform (GCP). My \\nresponsibilities also included debugging PySpark scripts and handling data transfor mation \\nprocesses, which has given me a comprehensive understanding of data integration and \\nwarehousing.  \\nIn addition to my professional experience, I have completed an advanced AI & ML IBM \\ncertified training program at Learnbay. This included hands -on exper ience with machine learning \\nalgorithms, neural networks, and deploying real -time machine learning projects on AWS. \\nUtilizing tools like VS Code and Jupyter Notebook, I built ML  & Deep learning  models and \\nperformed data preprocessing tasks, further enhancin g my technical capabilities.  \\nCurrently, I am pursuing  M.Sc. in Artificial Intelligence and Data Science, a joint degree from \\nDeggendorf Institute of Technology and the University of South Bohemia, with a CGPA of 1, 9. \\nMy coursework includes advanced machine  learning, feature engineering, deep learning, and \\ndata visualization, which have provided me with a solid foundation in the field.  \\nWhat particularly attracts me at  1KOMMA5  is the vision to build a virtual power plant , I am \\nconfident that my background and  skills align well with the requirements of this role, and I am \\nexcited about the opportunity to contribute to your team.  \\nThank you for considering my application. I look forward to the possibility of discussing how \\nmy background, skills, and certification s can benefit  1KOMMA5 . Please feel free to contact me \\nat +49 0176 -67751926 or via email at darshan12hs@gmail.com  to schedule an interview.  \\nSincerely,  \\n \\nDarshan Hassan Shivakumar  \\n '"
            ],
            "application/vnd.google.colaboratory.intrinsic+json": {
              "type": "string"
            }
          },
          "metadata": {},
          "execution_count": 50
        }
      ]
    },
    {
      "cell_type": "code",
      "source": [
        "text_splitter = CharacterTextSplitter(separator='\\n',\n",
        "                                      chunk_size=200,\n",
        "                                      chunk_overlap=20,\n",
        "                                      length_function=len)\n",
        "final_data = text_splitter.split_text(combined_text)"
      ],
      "metadata": {
        "id": "1hB5LKNU3R60"
      },
      "execution_count": null,
      "outputs": []
    },
    {
      "cell_type": "code",
      "source": [
        "final_data"
      ],
      "metadata": {
        "colab": {
          "base_uri": "https://localhost:8080/"
        },
        "id": "SFQNNbyn4PME",
        "outputId": "94a5bf34-e8a4-4248-8049-fe9c15751d41"
      },
      "execution_count": null,
      "outputs": [
        {
          "output_type": "execute_result",
          "data": {
            "text/plain": [
              "['Darshan Hassan Shivakumar  \\n+49 0176 -67751926  \\nDeggendorf, Bavaria  \\ndarshan12hs@gmail.com  \\nLinkedIn  | GitHub  \\nSubject: Application for the Position of Working Student Data Science  \\nHi,',\n",
              " 'Hi, \\nI am writing  to express my interest in the position of Working Student Data Science at \\n1KOMMA5 . With a strong background  in data engineering and currently pursuing a Master’s',\n",
              " 'degree in Artificial Intelligence and Data Science, I am eager to bring my expertise to your \\ninnovative team.',\n",
              " 'innovative team.  \\nDuring my tenure at Cognizant in Bengaluru, India, I developed my skills as a Data Engineer ,',\n",
              " 'focusing on AI tool development, converting TeraData SQL scripts to PySpark, and building \\nETL pipelines using Informatica Power Center and Google Cloud Platform (GCP). My',\n",
              " 'responsibilities also included debugging PySpark scripts and handling data transfor mation \\nprocesses, which has given me a comprehensive understanding of data integration and \\nwarehousing.',\n",
              " 'warehousing.  \\nIn addition to my professional experience, I have completed an advanced AI & ML IBM \\ncertified training program at Learnbay. This included hands -on exper ience with machine learning',\n",
              " 'algorithms, neural networks, and deploying real -time machine learning projects on AWS. \\nUtilizing tools like VS Code and Jupyter Notebook, I built ML  & Deep learning  models and',\n",
              " 'performed data preprocessing tasks, further enhancin g my technical capabilities.  \\nCurrently, I am pursuing  M.Sc. in Artificial Intelligence and Data Science, a joint degree from',\n",
              " 'Deggendorf Institute of Technology and the University of South Bohemia, with a CGPA of 1, 9. \\nMy coursework includes advanced machine  learning, feature engineering, deep learning, and',\n",
              " 'data visualization, which have provided me with a solid foundation in the field.  \\nWhat particularly attracts me at  1KOMMA5  is the vision to build a virtual power plant , I am',\n",
              " 'confident that my background and  skills align well with the requirements of this role, and I am \\nexcited about the opportunity to contribute to your team.',\n",
              " 'Thank you for considering my application. I look forward to the possibility of discussing how \\nmy background, skills, and certification s can benefit  1KOMMA5 . Please feel free to contact me',\n",
              " 'at +49 0176 -67751926 or via email at darshan12hs@gmail.com  to schedule an interview.  \\nSincerely,  \\n \\nDarshan Hassan Shivakumar']"
            ]
          },
          "metadata": {},
          "execution_count": 52
        }
      ]
    },
    {
      "cell_type": "code",
      "source": [
        "# !pip install tiktoken"
      ],
      "metadata": {
        "id": "TUM0xXza58AA"
      },
      "execution_count": null,
      "outputs": []
    },
    {
      "cell_type": "code",
      "source": [
        "embedding = OpenAIEmbeddings()\n",
        "document_search = FAISS.from_texts(final_data, embedding)\n",
        "document_search"
      ],
      "metadata": {
        "colab": {
          "base_uri": "https://localhost:8080/"
        },
        "id": "4UK9jhGb4hLL",
        "outputId": "80ce612d-f4fb-45c4-a1cf-b5ab3ee52749"
      },
      "execution_count": null,
      "outputs": [
        {
          "output_type": "execute_result",
          "data": {
            "text/plain": [
              "<langchain_community.vectorstores.faiss.FAISS at 0x7fcdbf21c6d0>"
            ]
          },
          "metadata": {},
          "execution_count": 57
        }
      ]
    },
    {
      "cell_type": "code",
      "source": [
        "chain = load_qa_chain(OpenAI())"
      ],
      "metadata": {
        "colab": {
          "base_uri": "https://localhost:8080/"
        },
        "id": "FUkF1pCm51hI",
        "outputId": "0867b3c6-1013-4a7d-e816-d8e1cbe01dce"
      },
      "execution_count": null,
      "outputs": [
        {
          "output_type": "stream",
          "name": "stderr",
          "text": [
            "<ipython-input-58-146e827af947>:1: LangChainDeprecationWarning: This class is deprecated. See the following migration guides for replacements based on `chain_type`:\n",
            "stuff: https://python.langchain.com/docs/versions/migrating_chains/stuff_docs_chain\n",
            "map_reduce: https://python.langchain.com/docs/versions/migrating_chains/map_reduce_chain\n",
            "refine: https://python.langchain.com/docs/versions/migrating_chains/refine_chain\n",
            "map_rerank: https://python.langchain.com/docs/versions/migrating_chains/map_rerank_docs_chain\n",
            "\n",
            "See also guides on retrieval and question-answering here: https://python.langchain.com/docs/how_to/#qa-with-rag\n",
            "  chain = load_qa_chain(OpenAI())\n"
          ]
        }
      ]
    },
    {
      "cell_type": "code",
      "source": [
        "our_query = \"In which field does the individual doing his Masters?\"\n",
        "docs = document_search.similarity_search(our_query)\n",
        "chain.run(input_documents=docs, question = our_query)"
      ],
      "metadata": {
        "colab": {
          "base_uri": "https://localhost:8080/",
          "height": 36
        },
        "id": "DCu8xNao6Ih0",
        "outputId": "1bcce9fe-be9d-4d01-d2e4-cf6ad34cf90d"
      },
      "execution_count": null,
      "outputs": [
        {
          "output_type": "execute_result",
          "data": {
            "text/plain": [
              "' The individual is doing their Masters in Artificial Intelligence and Data Science.'"
            ],
            "application/vnd.google.colaboratory.intrinsic+json": {
              "type": "string"
            }
          },
          "metadata": {},
          "execution_count": 78
        }
      ]
    },
    {
      "cell_type": "code",
      "source": [
        "our_query = \"What is the position the individual is applying?\"\n",
        "docs = document_search.similarity_search(our_query)\n",
        "chain.run(input_documents=docs, question = our_query)"
      ],
      "metadata": {
        "colab": {
          "base_uri": "https://localhost:8080/",
          "height": 36
        },
        "id": "zgxGflsO6Zso",
        "outputId": "41ac9fd1-002a-4d5f-ee8f-a613be045fbe"
      },
      "execution_count": null,
      "outputs": [
        {
          "output_type": "execute_result",
          "data": {
            "text/plain": [
              "' Working Student Data Science at 1KOMMA5'"
            ],
            "application/vnd.google.colaboratory.intrinsic+json": {
              "type": "string"
            }
          },
          "metadata": {},
          "execution_count": 77
        }
      ]
    },
    {
      "cell_type": "code",
      "source": [
        "our_query = \"Tell me about work experiences?\"\n",
        "docs = document_search.similarity_search(our_query)\n",
        "chain.run(input_documents=docs, question = our_query)"
      ],
      "metadata": {
        "colab": {
          "base_uri": "https://localhost:8080/",
          "height": 72
        },
        "id": "leXlfMpF7D-7",
        "outputId": "a7ba3c9e-dd5f-4474-f848-d3ced42ed99a"
      },
      "execution_count": null,
      "outputs": [
        {
          "output_type": "execute_result",
          "data": {
            "text/plain": [
              "' Based on the provided context, it seems that the individual has professional experience in AI and ML, as well as hands-on experience with machine learning. They also have experience with debugging PySpark scripts and handling data transformation processes, giving them a comprehensive understanding of data integration and warehousing.'"
            ],
            "application/vnd.google.colaboratory.intrinsic+json": {
              "type": "string"
            }
          },
          "metadata": {},
          "execution_count": 72
        }
      ]
    },
    {
      "cell_type": "markdown",
      "source": [
        "## Chatbot - embedding method"
      ],
      "metadata": {
        "id": "8EanEi8OCYLQ"
      }
    },
    {
      "cell_type": "code",
      "source": [
        "from langchain.embeddings import OpenAIEmbeddings\n",
        "import numpy as np"
      ],
      "metadata": {
        "id": "MUGZWrSjDvCb"
      },
      "execution_count": null,
      "outputs": []
    },
    {
      "cell_type": "code",
      "source": [
        "import os\n",
        "os.environ[\"OPENAI_API_KEY\"] = \"sk-elB1NqOl-3\""
      ],
      "metadata": {
        "id": "qtjmnmb3KViY"
      },
      "execution_count": null,
      "outputs": []
    },
    {
      "cell_type": "code",
      "source": [
        "embeddings = OpenAIEmbeddings()"
      ],
      "metadata": {
        "id": "W8CXMJbZJuDZ"
      },
      "execution_count": null,
      "outputs": []
    },
    {
      "cell_type": "code",
      "source": [
        "import pandas as pd\n",
        "df = pd.read_csv('/content/data.csv')\n",
        "df"
      ],
      "metadata": {
        "colab": {
          "base_uri": "https://localhost:8080/",
          "height": 457
        },
        "id": "09tMzFzTKGCg",
        "outputId": "8a47b000-4dc5-4f42-8179-5ecc72440305"
      },
      "execution_count": null,
      "outputs": [
        {
          "output_type": "execute_result",
          "data": {
            "text/plain": [
              "           Words\n",
              "0       Elephant\n",
              "1           Lion\n",
              "2          Tiger\n",
              "3            Dog\n",
              "4            Cat\n",
              "5        Cricket\n",
              "6       Football\n",
              "7   TennisHockey\n",
              "8     Basketball\n",
              "9         Apple \n",
              "10         Mango\n",
              "11        Banana\n",
              "12        Orange"
            ],
            "text/html": [
              "\n",
              "  <div id=\"df-f0d1afd5-25a9-4c97-925b-54dc7c409832\" class=\"colab-df-container\">\n",
              "    <div>\n",
              "<style scoped>\n",
              "    .dataframe tbody tr th:only-of-type {\n",
              "        vertical-align: middle;\n",
              "    }\n",
              "\n",
              "    .dataframe tbody tr th {\n",
              "        vertical-align: top;\n",
              "    }\n",
              "\n",
              "    .dataframe thead th {\n",
              "        text-align: right;\n",
              "    }\n",
              "</style>\n",
              "<table border=\"1\" class=\"dataframe\">\n",
              "  <thead>\n",
              "    <tr style=\"text-align: right;\">\n",
              "      <th></th>\n",
              "      <th>Words</th>\n",
              "    </tr>\n",
              "  </thead>\n",
              "  <tbody>\n",
              "    <tr>\n",
              "      <th>0</th>\n",
              "      <td>Elephant</td>\n",
              "    </tr>\n",
              "    <tr>\n",
              "      <th>1</th>\n",
              "      <td>Lion</td>\n",
              "    </tr>\n",
              "    <tr>\n",
              "      <th>2</th>\n",
              "      <td>Tiger</td>\n",
              "    </tr>\n",
              "    <tr>\n",
              "      <th>3</th>\n",
              "      <td>Dog</td>\n",
              "    </tr>\n",
              "    <tr>\n",
              "      <th>4</th>\n",
              "      <td>Cat</td>\n",
              "    </tr>\n",
              "    <tr>\n",
              "      <th>5</th>\n",
              "      <td>Cricket</td>\n",
              "    </tr>\n",
              "    <tr>\n",
              "      <th>6</th>\n",
              "      <td>Football</td>\n",
              "    </tr>\n",
              "    <tr>\n",
              "      <th>7</th>\n",
              "      <td>TennisHockey</td>\n",
              "    </tr>\n",
              "    <tr>\n",
              "      <th>8</th>\n",
              "      <td>Basketball</td>\n",
              "    </tr>\n",
              "    <tr>\n",
              "      <th>9</th>\n",
              "      <td>Apple</td>\n",
              "    </tr>\n",
              "    <tr>\n",
              "      <th>10</th>\n",
              "      <td>Mango</td>\n",
              "    </tr>\n",
              "    <tr>\n",
              "      <th>11</th>\n",
              "      <td>Banana</td>\n",
              "    </tr>\n",
              "    <tr>\n",
              "      <th>12</th>\n",
              "      <td>Orange</td>\n",
              "    </tr>\n",
              "  </tbody>\n",
              "</table>\n",
              "</div>\n",
              "    <div class=\"colab-df-buttons\">\n",
              "\n",
              "  <div class=\"colab-df-container\">\n",
              "    <button class=\"colab-df-convert\" onclick=\"convertToInteractive('df-f0d1afd5-25a9-4c97-925b-54dc7c409832')\"\n",
              "            title=\"Convert this dataframe to an interactive table.\"\n",
              "            style=\"display:none;\">\n",
              "\n",
              "  <svg xmlns=\"http://www.w3.org/2000/svg\" height=\"24px\" viewBox=\"0 -960 960 960\">\n",
              "    <path d=\"M120-120v-720h720v720H120Zm60-500h600v-160H180v160Zm220 220h160v-160H400v160Zm0 220h160v-160H400v160ZM180-400h160v-160H180v160Zm440 0h160v-160H620v160ZM180-180h160v-160H180v160Zm440 0h160v-160H620v160Z\"/>\n",
              "  </svg>\n",
              "    </button>\n",
              "\n",
              "  <style>\n",
              "    .colab-df-container {\n",
              "      display:flex;\n",
              "      gap: 12px;\n",
              "    }\n",
              "\n",
              "    .colab-df-convert {\n",
              "      background-color: #E8F0FE;\n",
              "      border: none;\n",
              "      border-radius: 50%;\n",
              "      cursor: pointer;\n",
              "      display: none;\n",
              "      fill: #1967D2;\n",
              "      height: 32px;\n",
              "      padding: 0 0 0 0;\n",
              "      width: 32px;\n",
              "    }\n",
              "\n",
              "    .colab-df-convert:hover {\n",
              "      background-color: #E2EBFA;\n",
              "      box-shadow: 0px 1px 2px rgba(60, 64, 67, 0.3), 0px 1px 3px 1px rgba(60, 64, 67, 0.15);\n",
              "      fill: #174EA6;\n",
              "    }\n",
              "\n",
              "    .colab-df-buttons div {\n",
              "      margin-bottom: 4px;\n",
              "    }\n",
              "\n",
              "    [theme=dark] .colab-df-convert {\n",
              "      background-color: #3B4455;\n",
              "      fill: #D2E3FC;\n",
              "    }\n",
              "\n",
              "    [theme=dark] .colab-df-convert:hover {\n",
              "      background-color: #434B5C;\n",
              "      box-shadow: 0px 1px 3px 1px rgba(0, 0, 0, 0.15);\n",
              "      filter: drop-shadow(0px 1px 2px rgba(0, 0, 0, 0.3));\n",
              "      fill: #FFFFFF;\n",
              "    }\n",
              "  </style>\n",
              "\n",
              "    <script>\n",
              "      const buttonEl =\n",
              "        document.querySelector('#df-f0d1afd5-25a9-4c97-925b-54dc7c409832 button.colab-df-convert');\n",
              "      buttonEl.style.display =\n",
              "        google.colab.kernel.accessAllowed ? 'block' : 'none';\n",
              "\n",
              "      async function convertToInteractive(key) {\n",
              "        const element = document.querySelector('#df-f0d1afd5-25a9-4c97-925b-54dc7c409832');\n",
              "        const dataTable =\n",
              "          await google.colab.kernel.invokeFunction('convertToInteractive',\n",
              "                                                    [key], {});\n",
              "        if (!dataTable) return;\n",
              "\n",
              "        const docLinkHtml = 'Like what you see? Visit the ' +\n",
              "          '<a target=\"_blank\" href=https://colab.research.google.com/notebooks/data_table.ipynb>data table notebook</a>'\n",
              "          + ' to learn more about interactive tables.';\n",
              "        element.innerHTML = '';\n",
              "        dataTable['output_type'] = 'display_data';\n",
              "        await google.colab.output.renderOutput(dataTable, element);\n",
              "        const docLink = document.createElement('div');\n",
              "        docLink.innerHTML = docLinkHtml;\n",
              "        element.appendChild(docLink);\n",
              "      }\n",
              "    </script>\n",
              "  </div>\n",
              "\n",
              "\n",
              "<div id=\"df-271b90ac-7321-4042-9ee7-31bff3903184\">\n",
              "  <button class=\"colab-df-quickchart\" onclick=\"quickchart('df-271b90ac-7321-4042-9ee7-31bff3903184')\"\n",
              "            title=\"Suggest charts\"\n",
              "            style=\"display:none;\">\n",
              "\n",
              "<svg xmlns=\"http://www.w3.org/2000/svg\" height=\"24px\"viewBox=\"0 0 24 24\"\n",
              "     width=\"24px\">\n",
              "    <g>\n",
              "        <path d=\"M19 3H5c-1.1 0-2 .9-2 2v14c0 1.1.9 2 2 2h14c1.1 0 2-.9 2-2V5c0-1.1-.9-2-2-2zM9 17H7v-7h2v7zm4 0h-2V7h2v10zm4 0h-2v-4h2v4z\"/>\n",
              "    </g>\n",
              "</svg>\n",
              "  </button>\n",
              "\n",
              "<style>\n",
              "  .colab-df-quickchart {\n",
              "      --bg-color: #E8F0FE;\n",
              "      --fill-color: #1967D2;\n",
              "      --hover-bg-color: #E2EBFA;\n",
              "      --hover-fill-color: #174EA6;\n",
              "      --disabled-fill-color: #AAA;\n",
              "      --disabled-bg-color: #DDD;\n",
              "  }\n",
              "\n",
              "  [theme=dark] .colab-df-quickchart {\n",
              "      --bg-color: #3B4455;\n",
              "      --fill-color: #D2E3FC;\n",
              "      --hover-bg-color: #434B5C;\n",
              "      --hover-fill-color: #FFFFFF;\n",
              "      --disabled-bg-color: #3B4455;\n",
              "      --disabled-fill-color: #666;\n",
              "  }\n",
              "\n",
              "  .colab-df-quickchart {\n",
              "    background-color: var(--bg-color);\n",
              "    border: none;\n",
              "    border-radius: 50%;\n",
              "    cursor: pointer;\n",
              "    display: none;\n",
              "    fill: var(--fill-color);\n",
              "    height: 32px;\n",
              "    padding: 0;\n",
              "    width: 32px;\n",
              "  }\n",
              "\n",
              "  .colab-df-quickchart:hover {\n",
              "    background-color: var(--hover-bg-color);\n",
              "    box-shadow: 0 1px 2px rgba(60, 64, 67, 0.3), 0 1px 3px 1px rgba(60, 64, 67, 0.15);\n",
              "    fill: var(--button-hover-fill-color);\n",
              "  }\n",
              "\n",
              "  .colab-df-quickchart-complete:disabled,\n",
              "  .colab-df-quickchart-complete:disabled:hover {\n",
              "    background-color: var(--disabled-bg-color);\n",
              "    fill: var(--disabled-fill-color);\n",
              "    box-shadow: none;\n",
              "  }\n",
              "\n",
              "  .colab-df-spinner {\n",
              "    border: 2px solid var(--fill-color);\n",
              "    border-color: transparent;\n",
              "    border-bottom-color: var(--fill-color);\n",
              "    animation:\n",
              "      spin 1s steps(1) infinite;\n",
              "  }\n",
              "\n",
              "  @keyframes spin {\n",
              "    0% {\n",
              "      border-color: transparent;\n",
              "      border-bottom-color: var(--fill-color);\n",
              "      border-left-color: var(--fill-color);\n",
              "    }\n",
              "    20% {\n",
              "      border-color: transparent;\n",
              "      border-left-color: var(--fill-color);\n",
              "      border-top-color: var(--fill-color);\n",
              "    }\n",
              "    30% {\n",
              "      border-color: transparent;\n",
              "      border-left-color: var(--fill-color);\n",
              "      border-top-color: var(--fill-color);\n",
              "      border-right-color: var(--fill-color);\n",
              "    }\n",
              "    40% {\n",
              "      border-color: transparent;\n",
              "      border-right-color: var(--fill-color);\n",
              "      border-top-color: var(--fill-color);\n",
              "    }\n",
              "    60% {\n",
              "      border-color: transparent;\n",
              "      border-right-color: var(--fill-color);\n",
              "    }\n",
              "    80% {\n",
              "      border-color: transparent;\n",
              "      border-right-color: var(--fill-color);\n",
              "      border-bottom-color: var(--fill-color);\n",
              "    }\n",
              "    90% {\n",
              "      border-color: transparent;\n",
              "      border-bottom-color: var(--fill-color);\n",
              "    }\n",
              "  }\n",
              "</style>\n",
              "\n",
              "  <script>\n",
              "    async function quickchart(key) {\n",
              "      const quickchartButtonEl =\n",
              "        document.querySelector('#' + key + ' button');\n",
              "      quickchartButtonEl.disabled = true;  // To prevent multiple clicks.\n",
              "      quickchartButtonEl.classList.add('colab-df-spinner');\n",
              "      try {\n",
              "        const charts = await google.colab.kernel.invokeFunction(\n",
              "            'suggestCharts', [key], {});\n",
              "      } catch (error) {\n",
              "        console.error('Error during call to suggestCharts:', error);\n",
              "      }\n",
              "      quickchartButtonEl.classList.remove('colab-df-spinner');\n",
              "      quickchartButtonEl.classList.add('colab-df-quickchart-complete');\n",
              "    }\n",
              "    (() => {\n",
              "      let quickchartButtonEl =\n",
              "        document.querySelector('#df-271b90ac-7321-4042-9ee7-31bff3903184 button');\n",
              "      quickchartButtonEl.style.display =\n",
              "        google.colab.kernel.accessAllowed ? 'block' : 'none';\n",
              "    })();\n",
              "  </script>\n",
              "</div>\n",
              "\n",
              "  <div id=\"id_82e49168-2a64-4d6d-8d41-3ed5890e2ae1\">\n",
              "    <style>\n",
              "      .colab-df-generate {\n",
              "        background-color: #E8F0FE;\n",
              "        border: none;\n",
              "        border-radius: 50%;\n",
              "        cursor: pointer;\n",
              "        display: none;\n",
              "        fill: #1967D2;\n",
              "        height: 32px;\n",
              "        padding: 0 0 0 0;\n",
              "        width: 32px;\n",
              "      }\n",
              "\n",
              "      .colab-df-generate:hover {\n",
              "        background-color: #E2EBFA;\n",
              "        box-shadow: 0px 1px 2px rgba(60, 64, 67, 0.3), 0px 1px 3px 1px rgba(60, 64, 67, 0.15);\n",
              "        fill: #174EA6;\n",
              "      }\n",
              "\n",
              "      [theme=dark] .colab-df-generate {\n",
              "        background-color: #3B4455;\n",
              "        fill: #D2E3FC;\n",
              "      }\n",
              "\n",
              "      [theme=dark] .colab-df-generate:hover {\n",
              "        background-color: #434B5C;\n",
              "        box-shadow: 0px 1px 3px 1px rgba(0, 0, 0, 0.15);\n",
              "        filter: drop-shadow(0px 1px 2px rgba(0, 0, 0, 0.3));\n",
              "        fill: #FFFFFF;\n",
              "      }\n",
              "    </style>\n",
              "    <button class=\"colab-df-generate\" onclick=\"generateWithVariable('df')\"\n",
              "            title=\"Generate code using this dataframe.\"\n",
              "            style=\"display:none;\">\n",
              "\n",
              "  <svg xmlns=\"http://www.w3.org/2000/svg\" height=\"24px\"viewBox=\"0 0 24 24\"\n",
              "       width=\"24px\">\n",
              "    <path d=\"M7,19H8.4L18.45,9,17,7.55,7,17.6ZM5,21V16.75L18.45,3.32a2,2,0,0,1,2.83,0l1.4,1.43a1.91,1.91,0,0,1,.58,1.4,1.91,1.91,0,0,1-.58,1.4L9.25,21ZM18.45,9,17,7.55Zm-12,3A5.31,5.31,0,0,0,4.9,8.1,5.31,5.31,0,0,0,1,6.5,5.31,5.31,0,0,0,4.9,4.9,5.31,5.31,0,0,0,6.5,1,5.31,5.31,0,0,0,8.1,4.9,5.31,5.31,0,0,0,12,6.5,5.46,5.46,0,0,0,6.5,12Z\"/>\n",
              "  </svg>\n",
              "    </button>\n",
              "    <script>\n",
              "      (() => {\n",
              "      const buttonEl =\n",
              "        document.querySelector('#id_82e49168-2a64-4d6d-8d41-3ed5890e2ae1 button.colab-df-generate');\n",
              "      buttonEl.style.display =\n",
              "        google.colab.kernel.accessAllowed ? 'block' : 'none';\n",
              "\n",
              "      buttonEl.onclick = () => {\n",
              "        google.colab.notebook.generateWithVariable('df');\n",
              "      }\n",
              "      })();\n",
              "    </script>\n",
              "  </div>\n",
              "\n",
              "    </div>\n",
              "  </div>\n"
            ],
            "application/vnd.google.colaboratory.intrinsic+json": {
              "type": "dataframe",
              "variable_name": "df",
              "summary": "{\n  \"name\": \"df\",\n  \"rows\": 13,\n  \"fields\": [\n    {\n      \"column\": \"Words\",\n      \"properties\": {\n        \"dtype\": \"string\",\n        \"num_unique_values\": 13,\n        \"samples\": [\n          \"Banana\",\n          \"Apple \",\n          \"Elephant\"\n        ],\n        \"semantic_type\": \"\",\n        \"description\": \"\"\n      }\n    }\n  ]\n}"
            }
          },
          "metadata": {},
          "execution_count": 28
        }
      ]
    },
    {
      "cell_type": "code",
      "source": [
        "df['embedding'] = df['Words'].apply(lambda x: embeddings.embed_query(x))\n",
        "df.to_csv(\"word_embeddings.csv\", index=False)"
      ],
      "metadata": {
        "id": "FUKDWjqrK3t1"
      },
      "execution_count": null,
      "outputs": []
    },
    {
      "cell_type": "code",
      "source": [
        "new_df = pd.read_csv(\"word_embeddings.csv\")\n",
        "print(new_df)"
      ],
      "metadata": {
        "colab": {
          "base_uri": "https://localhost:8080/"
        },
        "id": "YQDzZ6BSK_rr",
        "outputId": "fe5cf0f8-ebc6-45c3-df51-3e59ebc830c3"
      },
      "execution_count": null,
      "outputs": [
        {
          "output_type": "stream",
          "name": "stdout",
          "text": [
            "           Words                                          embedding\n",
            "0       Elephant  [-0.018855831530688934, -0.008652488248383567,...\n",
            "1           Lion  [-0.0015301275968181583, -0.010038282870029301...\n",
            "2          Tiger  [-0.013510822630793421, -0.009597745945871754,...\n",
            "3            Dog  [-0.0009038728010687597, -0.015125887894561561...\n",
            "4            Cat  [-0.008224940542690707, -0.00759697862576035, ...\n",
            "5        Cricket  [0.0039284024844554125, -0.007176395589143353,...\n",
            "6       Football  [0.0035366657365184756, -0.01132524063863051, ...\n",
            "7   TennisHockey  [-0.01630266654638684, -0.0012838024780589016,...\n",
            "8     Basketball  [-0.012849562447054099, -0.013312948534118471,...\n",
            "9         Apple   [0.007440723810208705, -0.014247069769881883, ...\n",
            "10         Mango  [-0.0033688851991672446, -0.019913143585248243...\n",
            "11        Banana  [-0.01310684259322369, -0.020144073397000643, ...\n",
            "12        Orange  [0.020801136217544678, -0.02944610819222123, 1...\n"
          ]
        }
      ]
    },
    {
      "cell_type": "code",
      "source": [
        "our_text = \"Monkey\"\n",
        "\n",
        "text_embedding = embeddings.embed_query(our_text)\n",
        "\n",
        "print(f'our embeddin is {text_embedding}')"
      ],
      "metadata": {
        "colab": {
          "base_uri": "https://localhost:8080/"
        },
        "id": "60vGX48gLKAx",
        "outputId": "a6f84141-ec4c-400a-d540-ce1d4388b2b4"
      },
      "execution_count": null,
      "outputs": [
        {
          "output_type": "stream",
          "name": "stdout",
          "text": [
            "our embeddin is [-0.00608503686510162, -0.028455158740586375, -0.0091048110048493, -0.02824520884335668, -0.006718384604157512, 0.016292082967761783, -0.001650728063453358, -0.012540984097722014, -0.008824877808543042, -0.014304560626748402, 0.022058696008329538, 0.007110290240796011, 0.012722940302792076, -0.009412736961992676, -0.016180110061768286, 0.005126267344133211, 0.03966646388114372, 0.004314462378696583, 0.018741492847506456, -0.018153634625379337, 0.005826098937915085, 0.010182551389189857, 0.01083339495301489, -0.028329188057190546, 0.007992078039647948, -0.0015536263989660646, 0.0006062292572298491, -0.011953125875594895, -0.008782888201626109, -0.0009465223970638843, 0.011421254106464525, -0.0071802735398725755, -0.024872020160859366, -0.01881147614658302, -0.02599175108343937, 6.801489800914761e-05, 0.009125805808307767, -0.0028150731762132323, 0.02387825805903016, -0.0021992212619264813, 0.015802199874225833, 0.011519230166378206, -0.002426666518264059, 0.0035796393682070546, -0.001517760004755451, 0.043361575366864226, -0.016194105976525586, 0.007978081193568132, -0.03096055600465031, 0.011309280269148512, 0.0068723475827292, -0.0003702547164681265, 0.00899283716753329, 0.006263494091482357, -0.018545540727679093, 0.009202787064762982, 0.009895620235504948, 0.005227742848397475, 0.006211006617174933, -0.0029707856441295827, 0.003261215776503817, 0.011988117525133178, -0.005826098937915085, 0.019049419735972347, 0.004115010348857379, -0.011239297901394463, -0.006015053566025055, 0.004104512947128146, -0.002729343774542818, 0.0016166112750027213, 0.019147396727208544, -0.005021292395518364, 0.013590731721225454, -0.03093256231249068, 0.022142675222163403, -0.01455650013089503, -0.03191232477427253, 0.0028588125053054564, 0.011897139422598147, -0.009027828817071572, 0.03051266251803129, -0.03574740285814616, -0.007362229744942638, 0.013954644131365579, 0.007131285044254477, 0.0032052293235070683, 0.01927336554795934, -0.0008148665717897886, 0.002363681642227402, 0.007425214620979294, 0.005889083813951742, 0.010756413696559676, 0.007649160898627547, 0.012883901704403672, -0.021274883803730025, 0.03238821195305117, -0.004972304365561523, 0.008978841252775987, -0.002235962400809426, -0.03972244754017292, 0.0004400191838574654, 0.009041825663151386, -0.02057505267560941, -0.021274883803730025, 0.0007326363234316709, 0.016530024694506082, 0.023556335255806967, 0.007600172403009448, 0.0301767438000508, -0.023514345648890034, -0.0032857100243128662, 0.03815482685626396, -0.026355663493579495, -0.043053646615753303, -0.011890140533896981, -0.01546628115624534, 0.006004556164295822, -0.0023776782554765894, 0.011239297901394463, -0.007453207847477669, 0.029085006569630426, 0.01494840530187227, 0.031744366346604797, -0.010322517987342987, 0.016502032864991478, 0.023080449939673345, -0.01203010713205011, -0.003133496535085841, -0.01836358452260903, 0.009048824551852552, 0.052375406406533466, 0.004996798613370572, 0.030708616500503685, 0.011848150926980048, 0.0022254647662495646, 0.039638468326339056, -0.03384386159361167, -0.005143763168902352, 3.720589792182099e-05, -0.022198662606482667, 0.005829598382265668, 0.024704059870546604, -0.010413496089878018, -0.014374543925824967, -0.0018003170858327605, 0.01612412267744902, -0.0052557360748958495, 0.009230780756922614, 0.015830193566385462, -0.009083816201390834, 0.018881459445659585, -0.01760776601016915, 0.014388539840582268, -0.008565940347017765, 0.0021239892619853, 0.021064935769145362, 0.001805565786697377, 0.020938965085749533, -0.009853630628588015, -0.010287526337804704, -0.008307002885492487, 0.0036531216459729445, 0.020267125787143517, -0.009412736961992676, 0.0032559670756392004, 0.03213627431154958, 0.015130361506942332, 0.017719738916162648, -0.0042479785239706, -0.017551780488494918, -0.008817879851164391, 0.01830759713828977, -0.016655995377901908, 0.025053976365929428, -0.012044103978129926, 0.029560891885764048, -0.00011416005143665451, -0.0008244892288466905, 0.002561384182721943, -0.011050342807623235, -0.035103560976989835, 0.011736178020986551, 0.00417449624620471, 0.017089891087118596, -0.01669798498481884, 0.011855149815681214, 0.007999076928349112, -0.013065857909473734, 0.0064839409247800265, -0.02660760299772612, -0.0010821148061940994, 0.01717387030095246, 0.018153634625379337, -0.006539927377776775, -0.6722863483144351, -0.02361232264012623, -0.015536264455321904, 0.020687025581602906, 0.010315520029964336, 0.0117291800636079, 0.006879346005769108, -0.016935928574208167, -0.027909288262731157, 0.01088938140601164, -0.011232299012693297, 0.0003079259571433755, 0.01518634795993908, -0.01910540525764658, -0.012149078926744774, -0.023822272537355926, 0.0029060512787482634, -0.00272234535150291, -0.013422772362235208, 0.011806161320063116, -0.016669991292659208, 0.016809957890812337, 0.007999076928349112, 0.0029742848556495367, -0.010903378252091455, -0.023248410229986107, 0.028805073373324167, -0.012946887046101587, 0.016334072574678716, 0.03919057670236507, -0.023850264366870527, 0.011428252063843175, 0.020938965085749533, -0.0098396337825082, 0.037538973079332176, -0.011708184328826919, -0.020183146573309652, 0.03905061010421194, -0.007033308984340796, 0.02586578040004354, -0.02613171581894747, -0.016767968283895405, 0.013590731721225454, -0.008034068577887394, -0.024242170469170283, -0.002753837789521238, 0.02435414337516378, -0.01683795158297197, -0.001807315392457354, -0.021974716794495672, 0.012345031977894652, 0.009909617081584764, 0.016711980899576144, 0.015340311404172026, -0.02571181788713311, 0.0031142512209720373, 0.023416368657653838, -0.007113789685146594, -0.0018947943998877455, 0.0004384883224732284, -0.005738620279730637, -0.012582974635961463, -0.008901859064998258, -0.020924969170992232, -0.017761728523079584, -0.005133265767173119, -0.01713188069403553, 0.008607929953934699, 0.01668398907006154, -0.02645363862217066, 0.019301359240118974, -0.0012526987484472827, -0.015578254062238837, -0.02298247294843715, 0.006518932574318309, 0.03700710224152432, 0.010987358397247836, -0.03264015331984283, -0.007418216197939386, 0.009370746423753228, -0.0026873537019646274, 0.00960868908182004, -0.0091677954152247, -0.01637606218159565, 0.02014115696639272, -0.021582810692195916, -0.018111645018462404, 0.007376226125361196, 0.02509596597284636, -0.008978841252775987, 0.015312317712012394, 0.017775726300481912, -0.004793847139180786, 0.010994356354626486, 0.010861388645174523, 0.0003630376945716215, -0.0005655515344907845, -0.004447430553809803, 0.008076058184804327, -0.04420137123049294, -0.007803123877199235, -0.005994058762566589, 0.015200344806018897, -0.0037580963617571627, 0.0261457135963498, -0.005017793416829039, -0.016921930796805835, 0.019875221547488792, 0.05136764838994696, -0.01284891005486539, -0.016795961976055037, 0.00672538302719742, 0.01345076605439484, -0.011015351158084953, 0.026467636399572992, -0.03552345704615917, 0.014458523139658832, -0.006620408078582573, 0.02975684400559141, -0.010987358397247836, -0.01178516651660465, 0.003506156857610536, 0.009426732876749978, 0.00706830016821782, 0.005504176600353151, -0.0007383224548401104, -0.002423167306744105, -0.009048824551852552, -0.008139042595179728, -0.008838874654622858, 0.0026978513365244895, -0.0025841287083557007, 0.008300003996791323, -0.006861850180999967, 0.03294807834566369, 0.01640405587375528, 0.033619915781624675, -0.004762354933993087, 0.010896380294712805, -0.0065714200486257325, -0.016655995377901908, -0.008216024782957456, -0.01021054508134949, -0.0005441191840731809, 5.84332164144273e-06, -0.017663753394488415, -0.002419668095224151, -0.007600172403009448, -0.00014543378145902858, -0.004352953472585447, 0.007446209424437761, -0.011813159277441766, 0.005500677156002568, 0.009426732876749978, 0.031044535218484177, -0.03336797814012308, -0.010238537842186606, -0.025011984896367464, 0.004017034288943697, -0.0017731986040067174, 0.0169919140958824, 0.03759496046365144, -0.013422772362235208, -0.01015455862835274, -0.020645035974685973, -0.01555026130140172, 0.003005777293667865, 0.0208969754788326, -0.021260887888972724, -0.050107952731858856, -0.001116231594644736, -0.04355752562404656, -0.04159799697519281, 0.01654402247190841, -0.009720662919136052, 0.0065644216255858244, 0.002090747334622309, -0.023192422845666843, -0.012869905789646372, 0.01082639699563624, 0.005745618237109287, 0.003940052566827224, -0.01389865767836883, -0.01664199760049958, 0.026663588519400355, 0.008516951851399668, 0.022632558315699356, 0.020099167359475787, -0.02496999528945053, 0.029532898193604416, -0.009937610773744396, 0.013240816157165146, 0.009895620235504948, -0.0013506752740222218, 0.005679134382383305, -0.009097812116148135, -0.016739974591735773, 0.01682395380556964, 0.028567131646579872, 0.035103560976989835, 0.014115605532977174, -0.003261215776503817, 0.00773314057812267, -0.016012149771455524, 0.029085006569630426, -0.03711907328487279, 0.0038385770625629606, -0.027153471612936308, 0.011295284354391212, 0.016725978676978472, 0.017705743001405348, -0.013016870345178152, -0.011295284354391212, 0.005248738117517199, 0.01518634795993908, 0.020029184060399222, 0.0036391250327237573, 0.002612121934854075, -0.019651273872856766, -0.012953885003480237, -0.007425214620979294, 0.003388935017921793, 0.014080613883438892, 0.01471046264380546, 7.971520463006503e-05, 0.02706949053645741, 0.01939933623135517, 0.05632245553375557, -0.01546628115624534, -0.01403862427652196, -0.009811641021671083, 0.0009237778714301265, 0.0036356258212038033, -0.010147559739651575, 0.02105093799174303, 0.009237778714301264, -0.013779686814996682, 0.0019455321520198776, 0.024732053562706236, 0.009118806919606603, -0.0037510979387172546, 0.02434014746040648, 0.009706666073056236, -0.0042199852974722256, 0.01851754703551946, -0.011393260414304893, 0.013758692011538216, 0.001388291157577498, -0.0010305021929743216, 0.016040143463615156, -0.01298187869563987, -0.007803123877199235, -0.020169150658552352, 0.0022639556273078005, 0.009076817312689668, 0.004261975370050416, 0.010945367859008388, 0.018153634625379337, 0.000969266922697642, 0.028609121253496805, 0.022898493734603283, -0.0056896317841125385, -0.007873107176275798, -0.00018797042393828297, 0.00420598845139241, -0.006980821510033372, 0.01986122377008646, -0.025221934793597158, 0.032192257970578786, -0.0025158951314544274, -0.004143003575355754, -0.010931371944251088, 0.014318557472828218, -0.008859869458081324, 0.015522267609242088, 0.001326181142628487, -0.0031107520094520833, 0.021302877495889657, 0.013737696276757234, -0.0068723475827292, -0.020645035974685973, -0.028511144262260608, 0.0078871030910331, -0.015228338498178529, 0.0010243786310220595, -0.028889052587158032, -0.0312684828931162, -0.004954808540792382, -0.014598489737811962, 0.026677584434157655, 0.0006709636808188256, 0.01335978795185981, 0.007215265189410858, 0.0013856668071451897, 0.0005585531696585338, -0.020854985871915668, 0.01760776601016915, -0.025151951494520593, 0.01728584320694596, -0.001940283451155261, -0.005878586412222509, 0.008530948697479482, -0.007215265189410858, -0.019623282043342165, 0.0021117421380807758, 0.004870828861297259, 0.0006543426589296729, -0.039470509898671326, -0.009006834013613104, 0.005885584835262417, -0.0005541792716739056, -0.005693131228463121, -0.02989681060374454, -0.005122768365443886, -0.020533063068692476, 0.004709867459685663, -0.024242170469170283, -0.019511309137348668, 0.03938653068483746, 0.007383224548401104, -0.024466116281157278, -0.003002278082147911, -0.033591923952110074, -0.008964844406696171, 0.09153799127938393, 0.03199630771339645, -0.0020680028089885513, 0.014542503284815213, 0.012771928798410175, -0.015816197651628162, -0.031744366346604797, -0.015214341652098713, 0.03535549861849143, -0.010084575329276176, 0.0051787548184406345, -0.013275807806703429, 0.0003453232127382261, -0.010567458602788448, 0.03434774060190492, 0.0018195625163618786, -0.005616149506346649, -0.008999836056234453, 0.022002708624010273, -0.0029095504902682174, -0.004240980100930693, 0.00024341021972248183, 0.005983561360837356, 0.010462484585496116, -0.004874327839986584, 0.0002405671540182621, -0.0062005092154457, 0.029336946073777053, -0.0040450275154420715, -0.028315192142433245, -0.005546166207270084, 0.0034606678063430203, -0.0015938667493689636, 0.010168554543110041, 0.003688113062680598, 0.015046382293108467, 0.004912818468214192, 0.0001315464967419685, 0.027139473835533976, 0.007852112372817332, 0.008572938304396416, 0.01717387030095246, -0.01834958860785173, -0.02911300026179006, 0.020239133957628917, 0.007201268343331042, -0.020337109086220082, 0.01397563986614656, -0.0091048110048493, 0.008691910099091078, 0.034207774003751794, 0.0034116795435555508, -0.012107088388505325, 0.018825473923985352, -0.000406339796846823, 0.004720364861414896, 0.004678375254497964, 0.0013830424567128814, -0.0195532987442656, -0.007029809539990213, -0.013828674379292265, -0.01895144274473615, -0.008432972637565801, 0.00018654889108617311, 0.005836596339644318, -0.023640316332285864, -0.016655995377901908, -0.008167036287339358, -0.022968477033679848, -0.019343348847035906, -0.0020575051744286896, -0.01083339495301489, -0.010042584791036728, 0.0037196055006989263, -0.0031684881846241234, 0.010105570132734642, 0.024676066178386972, -0.022422608418469662, 0.0056966302071524465, 0.02733542781800637, -0.010280528380426054, -0.022296639597718864, -0.002487901672125424, -0.027307434125846738, -0.023402372742896537, 0.010700427243562927, 0.013947646173986928, -0.004157000421435569, -0.014171591985973923, 0.024298157853489547, 0.007292246445866073, -0.01293289020002177, 0.013828674379292265, -0.008712904902549544, -0.012960883892181403, -0.022296639597718864, 0.01790169512123271, -0.0018318095238510888, -0.017859705514315777, -0.011162315713616732, 0.009902619124206114, -0.04506916264892632, 0.0036496224344529904, 0.0018353087353710428, 0.0011249795070293067, 0.007922094740571383, 0.008076058184804327, 0.025417888776069552, -0.022898493734603283, -0.005336216775701647, 0.016138118592206326, -0.0031247486227012704, 0.007369228167982546, 0.004450929532499129, 0.011519230166378206, -0.004604892511070817, -0.005311722993553856, -0.0012946887046101586, 0.014290563780668586, -0.03966646388114372, -0.022002708624010273, -0.022604564623539724, 0.03194032032907718, 0.04089816770971722, -0.006291487317980731, 0.002790578928404183, 0.019049419735972347, -0.022156672999565735, -0.005437692279965912, 0.004013534844593115, -0.0023986732917656846, 0.011491236474218574, -0.00040174715448645487, -0.019063415650729647, -0.013968640977445395, -0.012519989294263548, -0.024410130759483045, 0.009741657722594518, -0.01713188069403553, -0.010812400149556424, -0.03580339024246542, 0.008097052988262793, 0.006896841830538249, -0.010189550277891023, -0.023472356041973102, -0.05545466411532219, -0.013198826550248214, 0.02256257501662279, 0.0076141692490892645, 0.011183310517075199, -0.019651273872856766, 0.013870664917531713, 0.010385502397718386, 0.012792923601868641, -0.007502195877434509, -0.030596643594510187, -0.018881459445659585, -0.0010646189814249585, 0.04000238073647918, 0.01594216647237896, 0.019945204846565357, -0.0056966302071524465, 0.03552345704615917, 0.015438287464085708, 0.004251477502659926, -0.00713478448860506, 0.002232463189289472, 0.007880105133654449, -0.03314402860284603, 0.009027828817071572, 0.028805073373324167, 0.004545407079384742, 0.02193272532493371, -7.894976666198939e-05, -0.002750338578001284, 0.0021082431593914502, 0.0027713336142903794, -0.012743936037573058, -0.009209785022141634, -0.0031789855863533566, 0.01555026130140172, 0.014906415694955337, -0.016893937104646206, 0.004342455605194957, 0.005143763168902352, -0.009433731765451142, 0.027699340228146494, 0.008859869458081324, -0.007057802766488587, 0.012058100824209743, 0.013499753618690423, -0.01640405587375528, 0.020533063068692476, -0.01626408927560215, 0.010952366747709554, -0.020197144350711984, 0.007677154125125921, 0.023178426930909542, 0.0032804610906176208, 0.01351375046477024, 0.001887796093263152, 0.012946887046101587, -0.0013375534054453659, 0.007148780869023618, -0.006350972749666805, 0.001637606194876502, -0.0003000528476387934, -0.016460041395429517, 0.024144195340579117, -0.017383820198182156, -0.0084959570479412, -0.01836358452260903, -0.02552986168206305, -0.042437796564111584, 0.01818162831753897, 0.00010060081052363298, -0.0002254770371690893, 0.00872690174862936, -0.011239297901394463, -0.01021054508134949, 0.0018248112172264952, -0.0034274258789800294, 0.03406780740559867, -0.003210478024371685, 0.029196979475623924, 0.012617966285499745, -0.013324796302321527, -0.024088207956259853, 0.013233818199786496, -0.0014967650848816702, -0.018237613839213206, 0.01030852114126317, 0.01450051367789828, 0.02810524224520355, -0.005476183373854777, -0.002298947276846083, 0.0011634702516722286, -0.01862951994151296, -0.024410130759483045, 0.01592817055762166, 0.023052456247513713, -0.008656918449552796, -0.019749250864092963, 0.0005200624250156119, -0.016893937104646206, 0.019441325838272103, -0.020519065291290144, -0.006742878851966561, -0.022324631427233465, -0.02806325263828662, -0.021876739803259476, 0.03832278528393169, -0.004748358087913271, 0.009335754774214947, 0.010665435594024645, -0.010623445987107712, -0.004891823664755725, 0.00968567126959777, -0.006858350736649384, 0.0030670124475292303, 0.004335457647816306, 0.01217007373020324, -0.015480278002325156, 0.013408775516155392, 0.009048824551852552, -0.0016314827493395542, -0.01634806848943602, -0.0037266039237388343, 0.005490179754273335, 0.03728703543783058, -0.016194105976525586, 0.002204469962791098, 0.0015763709245998224, -0.022464598025386594, 0.001621859975867338, 0.001743455771748366, -0.01769174522400302, -0.033339982585318416, -0.007022811116950305, -0.012659955892416678, 0.015676231053475032, 0.02496999528945053, -0.010490477346333233, 0.0024284160076087215, -0.01903542195857002, -0.014157596071216623, -0.023248410229986107, -0.021848746111099843, -0.007103291817756103, -0.01626408927560215, -0.008397980988027519, 0.00011383200035665883, 0.01404562223390061, 0.012114087277206491, 0.025809793015724277, -0.015004391754869019, -0.016711980899576144, 0.03280811174751056, -0.0038210812377938194, 0.017201863993112094, -0.008230020697714759, 0.016460041395429517, -0.0209109713935899, -0.02119090458989616, 0.022800516743367086, -0.012205065379741522, 0.012135082080664958, -0.02704149684429778, -0.02182075241894021, -0.001103984587155526, -0.004024032246322348, 0.008474962244482733, -0.0018038162973527145, -0.016166112284365958, 0.019973196676079958, -0.0011171063393170676, 0.0008813506011387421, -0.027685342450744162, -0.026355663493579495, 0.03538349044800604, -0.02375228923827936, 0.004240980100930693, -0.004373948276043913, -0.015116365592185032, -0.015046382293108467, -0.004111511370168053, -0.0025893774092203173, -0.002881557030939214, -0.04434133782864607, -0.017243853600029026, -0.006889843407498341, 0.026523621921247225, -0.0027083487382537227, -0.024466116281157278, -0.031044535218484177, -0.03171637451709019, 0.0013952894642020916, 0.01231004032835637, -0.004706368480996338, -0.007131285044254477, 0.004793847139180786, 0.04120609273553808, 0.013576735806468154, 0.002491400883645378, -0.011582214576753605, -0.011736178020986551, 0.0012142080038043607, 0.009468723414989425, -0.008670915295632612, 0.003271713411063679, -0.027433402946597536, 0.03378787420929241, -0.0023251907811691662, -0.0020977455248315886, -0.021974716794495672, -0.009867627474667831, -0.0391345893180458, -0.009230780756922614, 0.007376226125361196, 0.01851754703551946, 0.011701186371448269, -0.012967881849560053, 0.012065098781588393, 0.002874558840729935, -0.005059783489407229, 0.010238537842186606, -0.03493559882403204, -0.024592086964553107, 0.006211006617174933, 0.013779686814996682, 0.007064801189528495, 1.8602948960910495e-05, -0.006697389800699046, 0.01126729066223158, 0.01972125717193333, 0.001355049230214507, -0.013674711866381835, 0.01862951994151296, -0.024592086964553107, -0.018867463530902285, -0.01998719445348229, 0.014346550233665335, 0.013730698319378584, -0.017999672112468907, 0.028805073373324167, -0.006099033245520178, -0.0157742061820662, 0.015116365592185032, 0.006074539463372387, -0.012156076884123424, -0.0111203261066998, 0.017915692898635042, -0.0051717563954007265, 0.02014115696639272, 0.0017320835089314872, 0.011855149815681214, 0.0003569141908270164, -0.013422772362235208, -0.003005777293667865, -0.0007571304548254057, 0.005101773096324162, 0.012645959046336861, -0.0008621052288172811, -0.01668398907006154, -0.005497178177313243, 0.01729984098434829, -0.0195672946590229, -0.009363748466374578, 0.02240861250371236, -0.0010331265434066301, 0.005728122878001404, -0.013562738960388338, 0.026803555117553484, -0.02705549462170011, 0.002235962400809426, -0.011834154080900232, -0.02778331944198036, -0.006036048835144779, 0.007845113484116168, -0.0004391444100813055, -0.02163879621387015, -0.00350965606913049, 0.004835837211758977, -0.001481018865872506, 0.002010266633816511, -0.006060542617292571, -0.004580398728923025, -0.015536264455321904, -0.013688708712461651, -8.080869367813635e-05, -0.008314000842871138, -0.01573221657514927, -0.01216307577282459, 0.014668473036888527, -0.022744531221692853, 0.006875846561418525, 0.18609924915794726, -0.024396132982080713, 0.008355990449788072, 0.026215696895426365, 0.023640316332285864, -0.014304560626748402, 0.016418051788512585, 0.008258014389874389, 0.014906415694955337, -0.0016962171147208735, -0.003271713411063679, -0.0038945635155597093, -0.0008389232726397005, 0.010140561782272925, -0.0019140397140015493, 0.008887863150240956, -0.020029184060399222, -0.01986122377008646, -0.029812831389910675, -0.03096055600465031, 0.005514674002082384, -0.007369228167982546, -0.01669798498481884, -0.0004391444100813055, 0.014850429241958589, 0.019441325838272103, -0.030596643594510187, 0.005637144309805115, 0.017103887001875897, 0.008796885047705925, -0.022156672999565735, -0.005927574907840607, -0.019749250864092963, -0.0169779181811251, -0.016012149771455524, 0.005052785066367321, -0.01605413937837246, 0.015522267609242088, 0.02464807248622734, 0.015816197651628162, -0.02462008065671274, -0.003271713411063679, 0.004422936306000755, 0.0038105838360645863, -0.010952366747709554, 0.0070892954373375444, -0.011225301055314647, -0.006777870035843586, -0.00377209297500635, 0.016236095583442522, -0.02509596597284636, 0.02494200345993593, 0.027671346535986862, 0.03653121506274567, 0.007719143732042854, -0.004594395109341583, 0.027741329835063427, 0.003695111485720506, -0.011211304209234831, 0.017999672112468907, -0.019623282043342165, 0.007747136958541228, -0.015522267609242088, 0.01412960237905699, -0.027685342450744162, 0.005465685972125544, -0.006081537886412295, 0.008334995646329604, -0.0005668637097069386, -0.02421417677701065, -0.016362066266838348, -0.030456676996357058, 0.0035901367699362878, -0.013842671225372081, -0.011428252063843175, -0.0483723698949921, 0.03451569902957266, 0.013961643020066744, 0.009482720261069241, 0.0076911505055444794, -0.009587694278361572, -0.008740898594709176, -0.0009325257838146971, 0.0036321266096838493, -0.014878422002795705, -0.025179945186680226, 0.04162599252999747, 0.008705906945170894, -0.001559749960918327, 0.005630146352426465, -0.010805402192177774, -0.0418219427871798, 0.0014801441212001748, -0.02117690867513886, 0.010238537842186606, 0.026467636399572992, 0.0032997066375620534, 0.025935763699120106, -0.01634806848943602, -0.007950088432731013, -0.014752452250722392, -0.026229692810183666, 0.035159544636019044, -0.01165219787583017, 0.00205050698421941, 0.0031107520094520833, 0.002316443101615224, 0.01397563986614656, -0.005885584835262417, -0.004839336190448302, -0.016851947497729274, -0.023178426930909542, -0.01746779941201602, -0.0035901367699362878, 0.03944251434386666, 0.0029497906078404875, -0.0050877767159056035, -0.01136526672214526, 0.006592414852084199, -0.006837355933190918, -0.0015168852600831197, -0.01729984098434829, 0.002218466576040285, -0.0013961643252897373, -0.01773373669356498, -0.029392931595451286, -0.005910079083071466, 0.01696392040372277, 0.0030915066953382795, -0.03454369458437732, -0.004951309562103057, -0.020547058983449776, -0.0070927944160268696, -0.0050807782928656954, -0.014080613883438892, -0.0026313672489678788, 0.015158355199101964, -0.016907934882048534, 0.003341696477309615, 0.018685507325832223, -0.0003444484389620662, 0.0024109201828395803, 0.003136995746605795, -0.0038490744642921937, 0.02271653752953322, -0.012890900593104838, 0.013261810960623613, 0.02315043323874991, -0.007040306941719446, -0.01611012676269172, -0.022954481118922548, 0.01998719445348229, -0.013156836012008765, -0.0016183608807626983, 0.022786520828609786, -0.004233982143552042, -0.025739811579292744, -0.024886016075616666, -0.006868848138378617, 0.007320239672364447, -0.047560562135587924, 0.01654402247190841, 0.011708184328826919, -0.016572014301423015, -0.01625009336084485, -0.002295448065326129, -0.18352386673216173, 0.013849670114073247, 0.035019578037865914, -0.021442844094042787, 0.025739811579292744, 0.012240057029279805, 0.029057012877470794, 0.0031107520094520833, -0.006942330881805765, -0.01292589224264312, 0.02211468153000377, -0.007572179176511074, -0.042129871538290724, -0.02015515288115002, 0.01112732406407845, -0.0051787548184406345, -0.00027293436581275033, -0.007894101979734265, 0.014374543925824967, 0.003908560361639525, 0.04280170897425171, -0.02930895238161742, 0.01605413937837246, 0.006844354356230826, 0.004933813737333916, 0.006211006617174933, -0.013786684772375333, -0.004010035865903789, 0.014430530378821716, -0.02135886488020892, -0.022590568708782423, -0.024396132982080713, 0.023318393529062672, -0.0006364094618243661, 0.006763873655425028, 0.024158191255336418, 0.005504176600353151, -0.01668398907006154, -0.004874327839986584, 0.001741706165988389, 0.000825364031726679, 0.02807724855304392, 0.007327238095404355, -0.008167036287339358, 0.002725844563022864, 0.028917046279317665, 0.019287361462716642, 0.020547058983449776, 0.02287050004244365, -0.011820158166142932, 0.008272011235954205, -0.006235500864983983, 0.010525468995871515, 0.019889217462246093, 0.03241620378256578, 0.01925936963320204, 0.004727363284454804, -0.0024861521827807616, -0.009048824551852552, -0.003016274695397098, -0.006760374211074445, -0.02028112356454585, -0.010028588876279427, -0.00857993719309758, -0.009979600380661329, -0.03157640791893706, -0.021302877495889657, -0.0028658109283453644, -0.02720945713461054, 0.01804166171938584, -0.013681709823760485, 0.020840988094513336, 0.03837877266825095, -0.03146443315029854, 0.007768132227660952, 0.012198066491040356, -0.001183590426873678, 0.016180110061768286, 0.0017233355965469166, 0.0016454793625887414, 0.009412736961992676, 0.04078619294107869, -0.005931073886529932, -0.004184993647933943, 0.01465447619080871, 0.004783349737451553, 0.016488035087589146, 0.00034422972369015477, 0.016040143463615156, -0.013149838054630115, 0.012128084123286307, -0.009671674423517953, -0.004706368480996338, -0.03829479345441709, 0.020113163274233088, 0.0182236179244559, -0.007474202650936135, 0.011533227012458023, 0.004433434173391245, -0.014101609618219874, 0.007740139001162578, 0.0011853400326336551, -0.010441488850715134, 0.012540984097722014, 0.0339558363622502, 0.0020802497000624474, 0.025417888776069552, 0.021008948384826098, 0.019203382248882777, -0.004517413852886368, -0.0196792675650164, 0.011575216619374955, -0.005122768365443886, 0.02313643732399261, 0.0013909155080098063, 0.010581455448868264, -0.010581455448868264, -0.006466445100010885, 0.016292082967761783, -0.01745380349725872, 0.05609850972176857, -0.0030337705201662394, -0.021904733495419108, 0.0047378606861840375, -0.0017460801221806743, 0.0022779522405569877, -0.10581455448868264, -0.03431974877239032, -0.008125046680422425, 0.03969445571065832, -0.013324796302321527, 0.020239133957628917, -0.0034851620541520695, 0.03392784080744554, 0.006424455027432695, 0.00668339295461923, -0.008125046680422425, -0.029504904501444783, 0.01804166171938584, 0.009349751620294762, 0.011932131072136429, -0.008747896552087827, 0.0012133332591320295, 0.0002523768182751352, -0.003294457936697437, 0.030428683304197426, 0.0076141692490892645, -0.003574390434511809, -0.014850429241958589, -0.0028098244753486158, -0.0001401850369386691, 0.0005065031841025903, -0.03171637451709019, 0.03096055600465031, 0.014808439635041656, -0.003191232710257881, 0.009496716175826541, -0.015536264455321904, 0.01612412267744902, -0.03191232477427253, -0.016907934882048534, 0.016949924488965467, -0.018013668027226207, 0.0027310932638874804, 0.039750443094977585, -0.02673357181847692, -0.007565180753471166, 0.015872183173302398, 0.016530024694506082, -0.01640405587375528, 0.012142080038043608, -0.020491073461775543, -0.014640479344728894, 0.014626483429971594, -0.009349751620294762, -0.02403222057194059, -0.03387185714841633, 0.003465916507207637, -0.009713664030434886, -0.002256957204267893, 0.033060049389012164, -0.00978364732951145, -0.0014591490849110795, 0.0208969754788326, 0.006179513946325976, 0.01202310917467146, 0.004492919605077319, -0.022450602110629294, 0.0026208698472386456, 0.019315355154876274, 0.016138118592206326, 0.0005603027754185107, -0.007845113484116168, -0.010098572175355992, 0.0029427924176312083, -0.0235843289479666, 0.016040143463615156, 0.019147396727208544, -0.028595123476094473, 0.023850264366870527, -0.021904733495419108, 0.008279009193332855, -0.018699503240589523, -0.006343974792288155, 0.029616879270083312, -0.02105093799174303, -0.005843594762684226, -0.01986122377008646, 0.000876539214402634, -0.013933649327907112, 0.016600007993582647, 0.018251611616615534, 0.014962402147952086, 0.010553462688031147, 0.009979600380661329, -0.015704224745634664, 0.014892418848875521, 0.018097649103705104, 0.0029357939945913003, -0.006053544194252663, -0.010819398106935075, -0.002076750721373122, 6.331289801282379e-05, -0.0069108382109568075, -0.0037371013254680675, 0.008789886159004761, 0.00013165583982600995, -0.014073615926060242, -0.1036310800278419, 0.015382301011088959, -0.0007037682940533081, 0.005304724570513948, 0.03230423273921731, -0.018125640933219708, -0.0004214299282479101, -0.025753807494050044, -0.002900802577883647, 0.001676096939519424, -0.022352625119393097, 0.008013072843106414, -0.03499158620835131, -0.0012631962665918303, -0.020225136180226585, 0.0012422013467180495, 0.01715987438619516, 0.002353184240498169, 0.003936553588137899, 0.014241575285050488, 0.012240057029279805, 0.009132803765686417, 0.02510996188760366, -0.0010663685871849353, -0.010126564936193109, 0.0007693775205222731, -0.0157742061820662, 0.025627836810654215, -0.003290958725177483, -0.021876739803259476, -0.0011048593318278572, -0.019791240471009896, -0.012303041439655204, 0.03658720244706493, -0.0022867001529415583, -0.01952530505210597, -0.007754135381581136, 0.01268794958457631, -0.012715942345413426, 0.03448770720005805, -0.007362229744942638, -0.019203382248882777, 0.005448190147356403, -0.013429770319613859, 0.004457927955539036, -0.007299244868905981, -0.0045629029041538835, 0.016865945275131602, 0.015536264455321904, -0.03157640791893706, 0.011043344850244585, 0.01678196419865271, -0.0021397355974097786, -0.019357344761793207, -0.029532898193604416, -0.01240801638827005, 0.021708779512946714, -0.003039019221030856, 0.0019682767940689496, -0.020029184060399222, 0.013758692011538216, 0.01397563986614656, 0.01879748023182572, 0.008810880962463227, 0.006141023318098369, 0.00391205934032885, -0.010294524295183355, -0.00672538302719742, 0.026117719904190168, -0.03532750678897683, -0.022128679307406102, -0.023836268452113226, 0.01923137594104241, -0.013919653413149812, 0.003220975426100918, 0.0117291800636079, -0.01725784951478633, -0.004282970173508882, -0.02177876281202328, 0.015382301011088959, 0.004317961823047165, -0.022212658521239968, -0.008481960201861385, -0.001621859975867338, 0.033591923952110074, -0.00857993719309758, -0.027545375852591033, 0.02162480029911285, -0.0041290071949371945, -0.016767968283895405, -0.013121844362470483, 0.003220975426100918, -0.008355990449788072, -0.003922556742058084, 0.004706368480996338, 0.018545540727679093, -0.009643680731358321, -0.011008353200706303, 0.01984722785532916, 0.010987358397247836, 0.017775726300481912, -0.00863592364609433, -0.013247814114543796, -0.012128084123286307, 0.005983561360837356, -0.012610967396798579, -0.018055657634143144, -0.02253458132446316, 0.003348694900349523, 0.022576570931380092, 0.014724459489885275, 0.007131285044254477, -0.022478595802788926, 0.019441325838272103, -0.01231703828573502, 0.03227623718441265, -0.015060378207865767, -0.0091677954152247, -0.03065262911618442, 0.03650322323323107, 0.02466207026362967, 0.014157596071216623, 0.0327521243631913, -0.005710627053232263, -0.006001057185606497, 0.025123959665005993, 0.0028955536441884013, -0.033619915781624675, -0.0021712278025974785, 0.0007125161482302215, 0.003523652682379677, -0.01759377009541185, -0.004076519720629771, -0.008593933107854883, -0.01359773060992662, -0.019777244556252595, -0.010966362662466854, 0.026495628229087593, -0.016292082967761783, 0.048764274134646825, -0.01773373669356498, 0.005661638557614164, 0.008929852757157889, -0.0364192440193972, 0.011029348004164769, 0.02538989508390992, 0.0249280056825336, -0.008705906945170894, -0.0005121893155110298, 0.011610208268913237, -0.021386856709723522, 0.015984156079295896, -0.0043074644213179315, -0.03462767379821118, -0.0058820858565730915, -0.013268809849324778, 0.016739974591735773, 0.0052557360748958495, 0.0038420760412522857, 0.026495628229087593, 0.00901383290231427, 0.02776932352722306, -0.0041360056179771025, -0.013408775516155392, -0.00886686834678249, 0.01878348431706842, 0.009804642132969917, -0.02344436234981347, -0.0196792675650164, 0.033004065729982955, 0.004377447254733239, -0.047560562135587924, -0.01126029270485293, 0.00759317397996954, -0.01611012676269172, 0.0017014659320008045, -0.02012716105163542, -0.003180735075698019, -0.016390058096352952, -0.014780445942882024, -0.003308454549946624, 0.01804166171938584, -0.01592817055762166, 0.025921767784362806, 0.0053502136217814635, -0.01284891005486539, -0.004055524917171305, -0.01696392040372277]\n"
          ]
        }
      ]
    },
    {
      "cell_type": "code",
      "source": [
        "def cosine_similarity(a, b):\n",
        "    return np.dot(a,b)/(np.linalg.norm(a)*np.linalg.norm(b))\n",
        "\n",
        "df[\"similarity score\"] = df['embedding'].apply(lambda x: cosine_similarity(x, text_embedding))\n",
        "df"
      ],
      "metadata": {
        "colab": {
          "base_uri": "https://localhost:8080/",
          "height": 457
        },
        "id": "qyO9-JCzLrm6",
        "outputId": "26e16b67-17ce-49df-891b-4be14a51ed7b"
      },
      "execution_count": null,
      "outputs": [
        {
          "output_type": "execute_result",
          "data": {
            "text/plain": [
              "           Words                                          embedding  \\\n",
              "0       Elephant  [-0.018855831530688934, -0.008652488248383567,...   \n",
              "1           Lion  [-0.0015301275968181583, -0.010038282870029301...   \n",
              "2          Tiger  [-0.013510822630793421, -0.009597745945871754,...   \n",
              "3            Dog  [-0.0009038728010687597, -0.015125887894561561...   \n",
              "4            Cat  [-0.008224940542690707, -0.00759697862576035, ...   \n",
              "5        Cricket  [0.0039284024844554125, -0.007176395589143353,...   \n",
              "6       Football  [0.0035366657365184756, -0.01132524063863051, ...   \n",
              "7   TennisHockey  [-0.01630266654638684, -0.0012838024780589016,...   \n",
              "8     Basketball  [-0.012849562447054099, -0.013312948534118471,...   \n",
              "9         Apple   [0.007440723810208705, -0.014247069769881883, ...   \n",
              "10         Mango  [-0.0033688851991672446, -0.019913143585248243...   \n",
              "11        Banana  [-0.01310684259322369, -0.020144073397000643, ...   \n",
              "12        Orange  [0.020801136217544678, -0.02944610819222123, 1...   \n",
              "\n",
              "    similarity score  \n",
              "0           0.833439  \n",
              "1           0.833720  \n",
              "2           0.836052  \n",
              "3           0.843544  \n",
              "4           0.871608  \n",
              "5           0.792980  \n",
              "6           0.802475  \n",
              "7           0.759468  \n",
              "8           0.778690  \n",
              "9           0.805730  \n",
              "10          0.817771  \n",
              "11          0.828323  \n",
              "12          0.826340  "
            ],
            "text/html": [
              "\n",
              "  <div id=\"df-23af54cc-5879-427e-a992-6d425c805414\" class=\"colab-df-container\">\n",
              "    <div>\n",
              "<style scoped>\n",
              "    .dataframe tbody tr th:only-of-type {\n",
              "        vertical-align: middle;\n",
              "    }\n",
              "\n",
              "    .dataframe tbody tr th {\n",
              "        vertical-align: top;\n",
              "    }\n",
              "\n",
              "    .dataframe thead th {\n",
              "        text-align: right;\n",
              "    }\n",
              "</style>\n",
              "<table border=\"1\" class=\"dataframe\">\n",
              "  <thead>\n",
              "    <tr style=\"text-align: right;\">\n",
              "      <th></th>\n",
              "      <th>Words</th>\n",
              "      <th>embedding</th>\n",
              "      <th>similarity score</th>\n",
              "    </tr>\n",
              "  </thead>\n",
              "  <tbody>\n",
              "    <tr>\n",
              "      <th>0</th>\n",
              "      <td>Elephant</td>\n",
              "      <td>[-0.018855831530688934, -0.008652488248383567,...</td>\n",
              "      <td>0.833439</td>\n",
              "    </tr>\n",
              "    <tr>\n",
              "      <th>1</th>\n",
              "      <td>Lion</td>\n",
              "      <td>[-0.0015301275968181583, -0.010038282870029301...</td>\n",
              "      <td>0.833720</td>\n",
              "    </tr>\n",
              "    <tr>\n",
              "      <th>2</th>\n",
              "      <td>Tiger</td>\n",
              "      <td>[-0.013510822630793421, -0.009597745945871754,...</td>\n",
              "      <td>0.836052</td>\n",
              "    </tr>\n",
              "    <tr>\n",
              "      <th>3</th>\n",
              "      <td>Dog</td>\n",
              "      <td>[-0.0009038728010687597, -0.015125887894561561...</td>\n",
              "      <td>0.843544</td>\n",
              "    </tr>\n",
              "    <tr>\n",
              "      <th>4</th>\n",
              "      <td>Cat</td>\n",
              "      <td>[-0.008224940542690707, -0.00759697862576035, ...</td>\n",
              "      <td>0.871608</td>\n",
              "    </tr>\n",
              "    <tr>\n",
              "      <th>5</th>\n",
              "      <td>Cricket</td>\n",
              "      <td>[0.0039284024844554125, -0.007176395589143353,...</td>\n",
              "      <td>0.792980</td>\n",
              "    </tr>\n",
              "    <tr>\n",
              "      <th>6</th>\n",
              "      <td>Football</td>\n",
              "      <td>[0.0035366657365184756, -0.01132524063863051, ...</td>\n",
              "      <td>0.802475</td>\n",
              "    </tr>\n",
              "    <tr>\n",
              "      <th>7</th>\n",
              "      <td>TennisHockey</td>\n",
              "      <td>[-0.01630266654638684, -0.0012838024780589016,...</td>\n",
              "      <td>0.759468</td>\n",
              "    </tr>\n",
              "    <tr>\n",
              "      <th>8</th>\n",
              "      <td>Basketball</td>\n",
              "      <td>[-0.012849562447054099, -0.013312948534118471,...</td>\n",
              "      <td>0.778690</td>\n",
              "    </tr>\n",
              "    <tr>\n",
              "      <th>9</th>\n",
              "      <td>Apple</td>\n",
              "      <td>[0.007440723810208705, -0.014247069769881883, ...</td>\n",
              "      <td>0.805730</td>\n",
              "    </tr>\n",
              "    <tr>\n",
              "      <th>10</th>\n",
              "      <td>Mango</td>\n",
              "      <td>[-0.0033688851991672446, -0.019913143585248243...</td>\n",
              "      <td>0.817771</td>\n",
              "    </tr>\n",
              "    <tr>\n",
              "      <th>11</th>\n",
              "      <td>Banana</td>\n",
              "      <td>[-0.01310684259322369, -0.020144073397000643, ...</td>\n",
              "      <td>0.828323</td>\n",
              "    </tr>\n",
              "    <tr>\n",
              "      <th>12</th>\n",
              "      <td>Orange</td>\n",
              "      <td>[0.020801136217544678, -0.02944610819222123, 1...</td>\n",
              "      <td>0.826340</td>\n",
              "    </tr>\n",
              "  </tbody>\n",
              "</table>\n",
              "</div>\n",
              "    <div class=\"colab-df-buttons\">\n",
              "\n",
              "  <div class=\"colab-df-container\">\n",
              "    <button class=\"colab-df-convert\" onclick=\"convertToInteractive('df-23af54cc-5879-427e-a992-6d425c805414')\"\n",
              "            title=\"Convert this dataframe to an interactive table.\"\n",
              "            style=\"display:none;\">\n",
              "\n",
              "  <svg xmlns=\"http://www.w3.org/2000/svg\" height=\"24px\" viewBox=\"0 -960 960 960\">\n",
              "    <path d=\"M120-120v-720h720v720H120Zm60-500h600v-160H180v160Zm220 220h160v-160H400v160Zm0 220h160v-160H400v160ZM180-400h160v-160H180v160Zm440 0h160v-160H620v160ZM180-180h160v-160H180v160Zm440 0h160v-160H620v160Z\"/>\n",
              "  </svg>\n",
              "    </button>\n",
              "\n",
              "  <style>\n",
              "    .colab-df-container {\n",
              "      display:flex;\n",
              "      gap: 12px;\n",
              "    }\n",
              "\n",
              "    .colab-df-convert {\n",
              "      background-color: #E8F0FE;\n",
              "      border: none;\n",
              "      border-radius: 50%;\n",
              "      cursor: pointer;\n",
              "      display: none;\n",
              "      fill: #1967D2;\n",
              "      height: 32px;\n",
              "      padding: 0 0 0 0;\n",
              "      width: 32px;\n",
              "    }\n",
              "\n",
              "    .colab-df-convert:hover {\n",
              "      background-color: #E2EBFA;\n",
              "      box-shadow: 0px 1px 2px rgba(60, 64, 67, 0.3), 0px 1px 3px 1px rgba(60, 64, 67, 0.15);\n",
              "      fill: #174EA6;\n",
              "    }\n",
              "\n",
              "    .colab-df-buttons div {\n",
              "      margin-bottom: 4px;\n",
              "    }\n",
              "\n",
              "    [theme=dark] .colab-df-convert {\n",
              "      background-color: #3B4455;\n",
              "      fill: #D2E3FC;\n",
              "    }\n",
              "\n",
              "    [theme=dark] .colab-df-convert:hover {\n",
              "      background-color: #434B5C;\n",
              "      box-shadow: 0px 1px 3px 1px rgba(0, 0, 0, 0.15);\n",
              "      filter: drop-shadow(0px 1px 2px rgba(0, 0, 0, 0.3));\n",
              "      fill: #FFFFFF;\n",
              "    }\n",
              "  </style>\n",
              "\n",
              "    <script>\n",
              "      const buttonEl =\n",
              "        document.querySelector('#df-23af54cc-5879-427e-a992-6d425c805414 button.colab-df-convert');\n",
              "      buttonEl.style.display =\n",
              "        google.colab.kernel.accessAllowed ? 'block' : 'none';\n",
              "\n",
              "      async function convertToInteractive(key) {\n",
              "        const element = document.querySelector('#df-23af54cc-5879-427e-a992-6d425c805414');\n",
              "        const dataTable =\n",
              "          await google.colab.kernel.invokeFunction('convertToInteractive',\n",
              "                                                    [key], {});\n",
              "        if (!dataTable) return;\n",
              "\n",
              "        const docLinkHtml = 'Like what you see? Visit the ' +\n",
              "          '<a target=\"_blank\" href=https://colab.research.google.com/notebooks/data_table.ipynb>data table notebook</a>'\n",
              "          + ' to learn more about interactive tables.';\n",
              "        element.innerHTML = '';\n",
              "        dataTable['output_type'] = 'display_data';\n",
              "        await google.colab.output.renderOutput(dataTable, element);\n",
              "        const docLink = document.createElement('div');\n",
              "        docLink.innerHTML = docLinkHtml;\n",
              "        element.appendChild(docLink);\n",
              "      }\n",
              "    </script>\n",
              "  </div>\n",
              "\n",
              "\n",
              "<div id=\"df-a7906f7e-c9d9-4821-8fff-e0a70602cee4\">\n",
              "  <button class=\"colab-df-quickchart\" onclick=\"quickchart('df-a7906f7e-c9d9-4821-8fff-e0a70602cee4')\"\n",
              "            title=\"Suggest charts\"\n",
              "            style=\"display:none;\">\n",
              "\n",
              "<svg xmlns=\"http://www.w3.org/2000/svg\" height=\"24px\"viewBox=\"0 0 24 24\"\n",
              "     width=\"24px\">\n",
              "    <g>\n",
              "        <path d=\"M19 3H5c-1.1 0-2 .9-2 2v14c0 1.1.9 2 2 2h14c1.1 0 2-.9 2-2V5c0-1.1-.9-2-2-2zM9 17H7v-7h2v7zm4 0h-2V7h2v10zm4 0h-2v-4h2v4z\"/>\n",
              "    </g>\n",
              "</svg>\n",
              "  </button>\n",
              "\n",
              "<style>\n",
              "  .colab-df-quickchart {\n",
              "      --bg-color: #E8F0FE;\n",
              "      --fill-color: #1967D2;\n",
              "      --hover-bg-color: #E2EBFA;\n",
              "      --hover-fill-color: #174EA6;\n",
              "      --disabled-fill-color: #AAA;\n",
              "      --disabled-bg-color: #DDD;\n",
              "  }\n",
              "\n",
              "  [theme=dark] .colab-df-quickchart {\n",
              "      --bg-color: #3B4455;\n",
              "      --fill-color: #D2E3FC;\n",
              "      --hover-bg-color: #434B5C;\n",
              "      --hover-fill-color: #FFFFFF;\n",
              "      --disabled-bg-color: #3B4455;\n",
              "      --disabled-fill-color: #666;\n",
              "  }\n",
              "\n",
              "  .colab-df-quickchart {\n",
              "    background-color: var(--bg-color);\n",
              "    border: none;\n",
              "    border-radius: 50%;\n",
              "    cursor: pointer;\n",
              "    display: none;\n",
              "    fill: var(--fill-color);\n",
              "    height: 32px;\n",
              "    padding: 0;\n",
              "    width: 32px;\n",
              "  }\n",
              "\n",
              "  .colab-df-quickchart:hover {\n",
              "    background-color: var(--hover-bg-color);\n",
              "    box-shadow: 0 1px 2px rgba(60, 64, 67, 0.3), 0 1px 3px 1px rgba(60, 64, 67, 0.15);\n",
              "    fill: var(--button-hover-fill-color);\n",
              "  }\n",
              "\n",
              "  .colab-df-quickchart-complete:disabled,\n",
              "  .colab-df-quickchart-complete:disabled:hover {\n",
              "    background-color: var(--disabled-bg-color);\n",
              "    fill: var(--disabled-fill-color);\n",
              "    box-shadow: none;\n",
              "  }\n",
              "\n",
              "  .colab-df-spinner {\n",
              "    border: 2px solid var(--fill-color);\n",
              "    border-color: transparent;\n",
              "    border-bottom-color: var(--fill-color);\n",
              "    animation:\n",
              "      spin 1s steps(1) infinite;\n",
              "  }\n",
              "\n",
              "  @keyframes spin {\n",
              "    0% {\n",
              "      border-color: transparent;\n",
              "      border-bottom-color: var(--fill-color);\n",
              "      border-left-color: var(--fill-color);\n",
              "    }\n",
              "    20% {\n",
              "      border-color: transparent;\n",
              "      border-left-color: var(--fill-color);\n",
              "      border-top-color: var(--fill-color);\n",
              "    }\n",
              "    30% {\n",
              "      border-color: transparent;\n",
              "      border-left-color: var(--fill-color);\n",
              "      border-top-color: var(--fill-color);\n",
              "      border-right-color: var(--fill-color);\n",
              "    }\n",
              "    40% {\n",
              "      border-color: transparent;\n",
              "      border-right-color: var(--fill-color);\n",
              "      border-top-color: var(--fill-color);\n",
              "    }\n",
              "    60% {\n",
              "      border-color: transparent;\n",
              "      border-right-color: var(--fill-color);\n",
              "    }\n",
              "    80% {\n",
              "      border-color: transparent;\n",
              "      border-right-color: var(--fill-color);\n",
              "      border-bottom-color: var(--fill-color);\n",
              "    }\n",
              "    90% {\n",
              "      border-color: transparent;\n",
              "      border-bottom-color: var(--fill-color);\n",
              "    }\n",
              "  }\n",
              "</style>\n",
              "\n",
              "  <script>\n",
              "    async function quickchart(key) {\n",
              "      const quickchartButtonEl =\n",
              "        document.querySelector('#' + key + ' button');\n",
              "      quickchartButtonEl.disabled = true;  // To prevent multiple clicks.\n",
              "      quickchartButtonEl.classList.add('colab-df-spinner');\n",
              "      try {\n",
              "        const charts = await google.colab.kernel.invokeFunction(\n",
              "            'suggestCharts', [key], {});\n",
              "      } catch (error) {\n",
              "        console.error('Error during call to suggestCharts:', error);\n",
              "      }\n",
              "      quickchartButtonEl.classList.remove('colab-df-spinner');\n",
              "      quickchartButtonEl.classList.add('colab-df-quickchart-complete');\n",
              "    }\n",
              "    (() => {\n",
              "      let quickchartButtonEl =\n",
              "        document.querySelector('#df-a7906f7e-c9d9-4821-8fff-e0a70602cee4 button');\n",
              "      quickchartButtonEl.style.display =\n",
              "        google.colab.kernel.accessAllowed ? 'block' : 'none';\n",
              "    })();\n",
              "  </script>\n",
              "</div>\n",
              "\n",
              "  <div id=\"id_5740ef87-54a5-4ecb-a517-b19288c2d4ac\">\n",
              "    <style>\n",
              "      .colab-df-generate {\n",
              "        background-color: #E8F0FE;\n",
              "        border: none;\n",
              "        border-radius: 50%;\n",
              "        cursor: pointer;\n",
              "        display: none;\n",
              "        fill: #1967D2;\n",
              "        height: 32px;\n",
              "        padding: 0 0 0 0;\n",
              "        width: 32px;\n",
              "      }\n",
              "\n",
              "      .colab-df-generate:hover {\n",
              "        background-color: #E2EBFA;\n",
              "        box-shadow: 0px 1px 2px rgba(60, 64, 67, 0.3), 0px 1px 3px 1px rgba(60, 64, 67, 0.15);\n",
              "        fill: #174EA6;\n",
              "      }\n",
              "\n",
              "      [theme=dark] .colab-df-generate {\n",
              "        background-color: #3B4455;\n",
              "        fill: #D2E3FC;\n",
              "      }\n",
              "\n",
              "      [theme=dark] .colab-df-generate:hover {\n",
              "        background-color: #434B5C;\n",
              "        box-shadow: 0px 1px 3px 1px rgba(0, 0, 0, 0.15);\n",
              "        filter: drop-shadow(0px 1px 2px rgba(0, 0, 0, 0.3));\n",
              "        fill: #FFFFFF;\n",
              "      }\n",
              "    </style>\n",
              "    <button class=\"colab-df-generate\" onclick=\"generateWithVariable('df')\"\n",
              "            title=\"Generate code using this dataframe.\"\n",
              "            style=\"display:none;\">\n",
              "\n",
              "  <svg xmlns=\"http://www.w3.org/2000/svg\" height=\"24px\"viewBox=\"0 0 24 24\"\n",
              "       width=\"24px\">\n",
              "    <path d=\"M7,19H8.4L18.45,9,17,7.55,7,17.6ZM5,21V16.75L18.45,3.32a2,2,0,0,1,2.83,0l1.4,1.43a1.91,1.91,0,0,1,.58,1.4,1.91,1.91,0,0,1-.58,1.4L9.25,21ZM18.45,9,17,7.55Zm-12,3A5.31,5.31,0,0,0,4.9,8.1,5.31,5.31,0,0,0,1,6.5,5.31,5.31,0,0,0,4.9,4.9,5.31,5.31,0,0,0,6.5,1,5.31,5.31,0,0,0,8.1,4.9,5.31,5.31,0,0,0,12,6.5,5.46,5.46,0,0,0,6.5,12Z\"/>\n",
              "  </svg>\n",
              "    </button>\n",
              "    <script>\n",
              "      (() => {\n",
              "      const buttonEl =\n",
              "        document.querySelector('#id_5740ef87-54a5-4ecb-a517-b19288c2d4ac button.colab-df-generate');\n",
              "      buttonEl.style.display =\n",
              "        google.colab.kernel.accessAllowed ? 'block' : 'none';\n",
              "\n",
              "      buttonEl.onclick = () => {\n",
              "        google.colab.notebook.generateWithVariable('df');\n",
              "      }\n",
              "      })();\n",
              "    </script>\n",
              "  </div>\n",
              "\n",
              "    </div>\n",
              "  </div>\n"
            ],
            "application/vnd.google.colaboratory.intrinsic+json": {
              "type": "dataframe",
              "variable_name": "df",
              "summary": "{\n  \"name\": \"df\",\n  \"rows\": 13,\n  \"fields\": [\n    {\n      \"column\": \"Words\",\n      \"properties\": {\n        \"dtype\": \"string\",\n        \"num_unique_values\": 13,\n        \"samples\": [\n          \"Banana\",\n          \"Apple \",\n          \"Elephant\"\n        ],\n        \"semantic_type\": \"\",\n        \"description\": \"\"\n      }\n    },\n    {\n      \"column\": \"embedding\",\n      \"properties\": {\n        \"dtype\": \"object\",\n        \"semantic_type\": \"\",\n        \"description\": \"\"\n      }\n    },\n    {\n      \"column\": \"similarity score\",\n      \"properties\": {\n        \"dtype\": \"number\",\n        \"std\": 0.029582690778881444,\n        \"min\": 0.7594680295801176,\n        \"max\": 0.871608374186886,\n        \"num_unique_values\": 13,\n        \"samples\": [\n          0.8283227435601017,\n          0.8057296380618834,\n          0.8334393667078942\n        ],\n        \"semantic_type\": \"\",\n        \"description\": \"\"\n      }\n    }\n  ]\n}"
            }
          },
          "metadata": {},
          "execution_count": 42
        }
      ]
    },
    {
      "cell_type": "code",
      "source": [
        "df.sort_values(\"similarity score\", ascending=False)"
      ],
      "metadata": {
        "colab": {
          "base_uri": "https://localhost:8080/",
          "height": 457
        },
        "id": "yXEz52ljLy1Z",
        "outputId": "b871ba81-79b9-49d8-b366-0bc75237d43f"
      },
      "execution_count": null,
      "outputs": [
        {
          "output_type": "execute_result",
          "data": {
            "text/plain": [
              "           Words                                          embedding  \\\n",
              "4            Cat  [-0.008224940542690707, -0.00759697862576035, ...   \n",
              "3            Dog  [-0.0009038728010687597, -0.015125887894561561...   \n",
              "2          Tiger  [-0.013510822630793421, -0.009597745945871754,...   \n",
              "1           Lion  [-0.0015301275968181583, -0.010038282870029301...   \n",
              "0       Elephant  [-0.018855831530688934, -0.008652488248383567,...   \n",
              "11        Banana  [-0.01310684259322369, -0.020144073397000643, ...   \n",
              "12        Orange  [0.020801136217544678, -0.02944610819222123, 1...   \n",
              "10         Mango  [-0.0033688851991672446, -0.019913143585248243...   \n",
              "9         Apple   [0.007440723810208705, -0.014247069769881883, ...   \n",
              "6       Football  [0.0035366657365184756, -0.01132524063863051, ...   \n",
              "5        Cricket  [0.0039284024844554125, -0.007176395589143353,...   \n",
              "8     Basketball  [-0.012849562447054099, -0.013312948534118471,...   \n",
              "7   TennisHockey  [-0.01630266654638684, -0.0012838024780589016,...   \n",
              "\n",
              "    similarity score  \n",
              "4           0.871608  \n",
              "3           0.843544  \n",
              "2           0.836052  \n",
              "1           0.833720  \n",
              "0           0.833439  \n",
              "11          0.828323  \n",
              "12          0.826340  \n",
              "10          0.817771  \n",
              "9           0.805730  \n",
              "6           0.802475  \n",
              "5           0.792980  \n",
              "8           0.778690  \n",
              "7           0.759468  "
            ],
            "text/html": [
              "\n",
              "  <div id=\"df-595954e2-7051-4733-a949-844f93bd2111\" class=\"colab-df-container\">\n",
              "    <div>\n",
              "<style scoped>\n",
              "    .dataframe tbody tr th:only-of-type {\n",
              "        vertical-align: middle;\n",
              "    }\n",
              "\n",
              "    .dataframe tbody tr th {\n",
              "        vertical-align: top;\n",
              "    }\n",
              "\n",
              "    .dataframe thead th {\n",
              "        text-align: right;\n",
              "    }\n",
              "</style>\n",
              "<table border=\"1\" class=\"dataframe\">\n",
              "  <thead>\n",
              "    <tr style=\"text-align: right;\">\n",
              "      <th></th>\n",
              "      <th>Words</th>\n",
              "      <th>embedding</th>\n",
              "      <th>similarity score</th>\n",
              "    </tr>\n",
              "  </thead>\n",
              "  <tbody>\n",
              "    <tr>\n",
              "      <th>4</th>\n",
              "      <td>Cat</td>\n",
              "      <td>[-0.008224940542690707, -0.00759697862576035, ...</td>\n",
              "      <td>0.871608</td>\n",
              "    </tr>\n",
              "    <tr>\n",
              "      <th>3</th>\n",
              "      <td>Dog</td>\n",
              "      <td>[-0.0009038728010687597, -0.015125887894561561...</td>\n",
              "      <td>0.843544</td>\n",
              "    </tr>\n",
              "    <tr>\n",
              "      <th>2</th>\n",
              "      <td>Tiger</td>\n",
              "      <td>[-0.013510822630793421, -0.009597745945871754,...</td>\n",
              "      <td>0.836052</td>\n",
              "    </tr>\n",
              "    <tr>\n",
              "      <th>1</th>\n",
              "      <td>Lion</td>\n",
              "      <td>[-0.0015301275968181583, -0.010038282870029301...</td>\n",
              "      <td>0.833720</td>\n",
              "    </tr>\n",
              "    <tr>\n",
              "      <th>0</th>\n",
              "      <td>Elephant</td>\n",
              "      <td>[-0.018855831530688934, -0.008652488248383567,...</td>\n",
              "      <td>0.833439</td>\n",
              "    </tr>\n",
              "    <tr>\n",
              "      <th>11</th>\n",
              "      <td>Banana</td>\n",
              "      <td>[-0.01310684259322369, -0.020144073397000643, ...</td>\n",
              "      <td>0.828323</td>\n",
              "    </tr>\n",
              "    <tr>\n",
              "      <th>12</th>\n",
              "      <td>Orange</td>\n",
              "      <td>[0.020801136217544678, -0.02944610819222123, 1...</td>\n",
              "      <td>0.826340</td>\n",
              "    </tr>\n",
              "    <tr>\n",
              "      <th>10</th>\n",
              "      <td>Mango</td>\n",
              "      <td>[-0.0033688851991672446, -0.019913143585248243...</td>\n",
              "      <td>0.817771</td>\n",
              "    </tr>\n",
              "    <tr>\n",
              "      <th>9</th>\n",
              "      <td>Apple</td>\n",
              "      <td>[0.007440723810208705, -0.014247069769881883, ...</td>\n",
              "      <td>0.805730</td>\n",
              "    </tr>\n",
              "    <tr>\n",
              "      <th>6</th>\n",
              "      <td>Football</td>\n",
              "      <td>[0.0035366657365184756, -0.01132524063863051, ...</td>\n",
              "      <td>0.802475</td>\n",
              "    </tr>\n",
              "    <tr>\n",
              "      <th>5</th>\n",
              "      <td>Cricket</td>\n",
              "      <td>[0.0039284024844554125, -0.007176395589143353,...</td>\n",
              "      <td>0.792980</td>\n",
              "    </tr>\n",
              "    <tr>\n",
              "      <th>8</th>\n",
              "      <td>Basketball</td>\n",
              "      <td>[-0.012849562447054099, -0.013312948534118471,...</td>\n",
              "      <td>0.778690</td>\n",
              "    </tr>\n",
              "    <tr>\n",
              "      <th>7</th>\n",
              "      <td>TennisHockey</td>\n",
              "      <td>[-0.01630266654638684, -0.0012838024780589016,...</td>\n",
              "      <td>0.759468</td>\n",
              "    </tr>\n",
              "  </tbody>\n",
              "</table>\n",
              "</div>\n",
              "    <div class=\"colab-df-buttons\">\n",
              "\n",
              "  <div class=\"colab-df-container\">\n",
              "    <button class=\"colab-df-convert\" onclick=\"convertToInteractive('df-595954e2-7051-4733-a949-844f93bd2111')\"\n",
              "            title=\"Convert this dataframe to an interactive table.\"\n",
              "            style=\"display:none;\">\n",
              "\n",
              "  <svg xmlns=\"http://www.w3.org/2000/svg\" height=\"24px\" viewBox=\"0 -960 960 960\">\n",
              "    <path d=\"M120-120v-720h720v720H120Zm60-500h600v-160H180v160Zm220 220h160v-160H400v160Zm0 220h160v-160H400v160ZM180-400h160v-160H180v160Zm440 0h160v-160H620v160ZM180-180h160v-160H180v160Zm440 0h160v-160H620v160Z\"/>\n",
              "  </svg>\n",
              "    </button>\n",
              "\n",
              "  <style>\n",
              "    .colab-df-container {\n",
              "      display:flex;\n",
              "      gap: 12px;\n",
              "    }\n",
              "\n",
              "    .colab-df-convert {\n",
              "      background-color: #E8F0FE;\n",
              "      border: none;\n",
              "      border-radius: 50%;\n",
              "      cursor: pointer;\n",
              "      display: none;\n",
              "      fill: #1967D2;\n",
              "      height: 32px;\n",
              "      padding: 0 0 0 0;\n",
              "      width: 32px;\n",
              "    }\n",
              "\n",
              "    .colab-df-convert:hover {\n",
              "      background-color: #E2EBFA;\n",
              "      box-shadow: 0px 1px 2px rgba(60, 64, 67, 0.3), 0px 1px 3px 1px rgba(60, 64, 67, 0.15);\n",
              "      fill: #174EA6;\n",
              "    }\n",
              "\n",
              "    .colab-df-buttons div {\n",
              "      margin-bottom: 4px;\n",
              "    }\n",
              "\n",
              "    [theme=dark] .colab-df-convert {\n",
              "      background-color: #3B4455;\n",
              "      fill: #D2E3FC;\n",
              "    }\n",
              "\n",
              "    [theme=dark] .colab-df-convert:hover {\n",
              "      background-color: #434B5C;\n",
              "      box-shadow: 0px 1px 3px 1px rgba(0, 0, 0, 0.15);\n",
              "      filter: drop-shadow(0px 1px 2px rgba(0, 0, 0, 0.3));\n",
              "      fill: #FFFFFF;\n",
              "    }\n",
              "  </style>\n",
              "\n",
              "    <script>\n",
              "      const buttonEl =\n",
              "        document.querySelector('#df-595954e2-7051-4733-a949-844f93bd2111 button.colab-df-convert');\n",
              "      buttonEl.style.display =\n",
              "        google.colab.kernel.accessAllowed ? 'block' : 'none';\n",
              "\n",
              "      async function convertToInteractive(key) {\n",
              "        const element = document.querySelector('#df-595954e2-7051-4733-a949-844f93bd2111');\n",
              "        const dataTable =\n",
              "          await google.colab.kernel.invokeFunction('convertToInteractive',\n",
              "                                                    [key], {});\n",
              "        if (!dataTable) return;\n",
              "\n",
              "        const docLinkHtml = 'Like what you see? Visit the ' +\n",
              "          '<a target=\"_blank\" href=https://colab.research.google.com/notebooks/data_table.ipynb>data table notebook</a>'\n",
              "          + ' to learn more about interactive tables.';\n",
              "        element.innerHTML = '';\n",
              "        dataTable['output_type'] = 'display_data';\n",
              "        await google.colab.output.renderOutput(dataTable, element);\n",
              "        const docLink = document.createElement('div');\n",
              "        docLink.innerHTML = docLinkHtml;\n",
              "        element.appendChild(docLink);\n",
              "      }\n",
              "    </script>\n",
              "  </div>\n",
              "\n",
              "\n",
              "<div id=\"df-7236dfee-2efd-4a95-b595-7d7cbb491d73\">\n",
              "  <button class=\"colab-df-quickchart\" onclick=\"quickchart('df-7236dfee-2efd-4a95-b595-7d7cbb491d73')\"\n",
              "            title=\"Suggest charts\"\n",
              "            style=\"display:none;\">\n",
              "\n",
              "<svg xmlns=\"http://www.w3.org/2000/svg\" height=\"24px\"viewBox=\"0 0 24 24\"\n",
              "     width=\"24px\">\n",
              "    <g>\n",
              "        <path d=\"M19 3H5c-1.1 0-2 .9-2 2v14c0 1.1.9 2 2 2h14c1.1 0 2-.9 2-2V5c0-1.1-.9-2-2-2zM9 17H7v-7h2v7zm4 0h-2V7h2v10zm4 0h-2v-4h2v4z\"/>\n",
              "    </g>\n",
              "</svg>\n",
              "  </button>\n",
              "\n",
              "<style>\n",
              "  .colab-df-quickchart {\n",
              "      --bg-color: #E8F0FE;\n",
              "      --fill-color: #1967D2;\n",
              "      --hover-bg-color: #E2EBFA;\n",
              "      --hover-fill-color: #174EA6;\n",
              "      --disabled-fill-color: #AAA;\n",
              "      --disabled-bg-color: #DDD;\n",
              "  }\n",
              "\n",
              "  [theme=dark] .colab-df-quickchart {\n",
              "      --bg-color: #3B4455;\n",
              "      --fill-color: #D2E3FC;\n",
              "      --hover-bg-color: #434B5C;\n",
              "      --hover-fill-color: #FFFFFF;\n",
              "      --disabled-bg-color: #3B4455;\n",
              "      --disabled-fill-color: #666;\n",
              "  }\n",
              "\n",
              "  .colab-df-quickchart {\n",
              "    background-color: var(--bg-color);\n",
              "    border: none;\n",
              "    border-radius: 50%;\n",
              "    cursor: pointer;\n",
              "    display: none;\n",
              "    fill: var(--fill-color);\n",
              "    height: 32px;\n",
              "    padding: 0;\n",
              "    width: 32px;\n",
              "  }\n",
              "\n",
              "  .colab-df-quickchart:hover {\n",
              "    background-color: var(--hover-bg-color);\n",
              "    box-shadow: 0 1px 2px rgba(60, 64, 67, 0.3), 0 1px 3px 1px rgba(60, 64, 67, 0.15);\n",
              "    fill: var(--button-hover-fill-color);\n",
              "  }\n",
              "\n",
              "  .colab-df-quickchart-complete:disabled,\n",
              "  .colab-df-quickchart-complete:disabled:hover {\n",
              "    background-color: var(--disabled-bg-color);\n",
              "    fill: var(--disabled-fill-color);\n",
              "    box-shadow: none;\n",
              "  }\n",
              "\n",
              "  .colab-df-spinner {\n",
              "    border: 2px solid var(--fill-color);\n",
              "    border-color: transparent;\n",
              "    border-bottom-color: var(--fill-color);\n",
              "    animation:\n",
              "      spin 1s steps(1) infinite;\n",
              "  }\n",
              "\n",
              "  @keyframes spin {\n",
              "    0% {\n",
              "      border-color: transparent;\n",
              "      border-bottom-color: var(--fill-color);\n",
              "      border-left-color: var(--fill-color);\n",
              "    }\n",
              "    20% {\n",
              "      border-color: transparent;\n",
              "      border-left-color: var(--fill-color);\n",
              "      border-top-color: var(--fill-color);\n",
              "    }\n",
              "    30% {\n",
              "      border-color: transparent;\n",
              "      border-left-color: var(--fill-color);\n",
              "      border-top-color: var(--fill-color);\n",
              "      border-right-color: var(--fill-color);\n",
              "    }\n",
              "    40% {\n",
              "      border-color: transparent;\n",
              "      border-right-color: var(--fill-color);\n",
              "      border-top-color: var(--fill-color);\n",
              "    }\n",
              "    60% {\n",
              "      border-color: transparent;\n",
              "      border-right-color: var(--fill-color);\n",
              "    }\n",
              "    80% {\n",
              "      border-color: transparent;\n",
              "      border-right-color: var(--fill-color);\n",
              "      border-bottom-color: var(--fill-color);\n",
              "    }\n",
              "    90% {\n",
              "      border-color: transparent;\n",
              "      border-bottom-color: var(--fill-color);\n",
              "    }\n",
              "  }\n",
              "</style>\n",
              "\n",
              "  <script>\n",
              "    async function quickchart(key) {\n",
              "      const quickchartButtonEl =\n",
              "        document.querySelector('#' + key + ' button');\n",
              "      quickchartButtonEl.disabled = true;  // To prevent multiple clicks.\n",
              "      quickchartButtonEl.classList.add('colab-df-spinner');\n",
              "      try {\n",
              "        const charts = await google.colab.kernel.invokeFunction(\n",
              "            'suggestCharts', [key], {});\n",
              "      } catch (error) {\n",
              "        console.error('Error during call to suggestCharts:', error);\n",
              "      }\n",
              "      quickchartButtonEl.classList.remove('colab-df-spinner');\n",
              "      quickchartButtonEl.classList.add('colab-df-quickchart-complete');\n",
              "    }\n",
              "    (() => {\n",
              "      let quickchartButtonEl =\n",
              "        document.querySelector('#df-7236dfee-2efd-4a95-b595-7d7cbb491d73 button');\n",
              "      quickchartButtonEl.style.display =\n",
              "        google.colab.kernel.accessAllowed ? 'block' : 'none';\n",
              "    })();\n",
              "  </script>\n",
              "</div>\n",
              "\n",
              "    </div>\n",
              "  </div>\n"
            ],
            "application/vnd.google.colaboratory.intrinsic+json": {
              "type": "dataframe",
              "summary": "{\n  \"name\": \"df\",\n  \"rows\": 13,\n  \"fields\": [\n    {\n      \"column\": \"Words\",\n      \"properties\": {\n        \"dtype\": \"string\",\n        \"num_unique_values\": 13,\n        \"samples\": [\n          \"Basketball\",\n          \"Football\",\n          \"Cat\"\n        ],\n        \"semantic_type\": \"\",\n        \"description\": \"\"\n      }\n    },\n    {\n      \"column\": \"embedding\",\n      \"properties\": {\n        \"dtype\": \"object\",\n        \"semantic_type\": \"\",\n        \"description\": \"\"\n      }\n    },\n    {\n      \"column\": \"similarity score\",\n      \"properties\": {\n        \"dtype\": \"number\",\n        \"std\": 0.029582690778881447,\n        \"min\": 0.7594680295801176,\n        \"max\": 0.871608374186886,\n        \"num_unique_values\": 13,\n        \"samples\": [\n          0.7786895625421639,\n          0.8024749785702323,\n          0.871608374186886\n        ],\n        \"semantic_type\": \"\",\n        \"description\": \"\"\n      }\n    }\n  ]\n}"
            }
          },
          "metadata": {},
          "execution_count": 46
        }
      ]
    },
    {
      "cell_type": "code",
      "source": [],
      "metadata": {
        "id": "woU43qPUMLrT"
      },
      "execution_count": null,
      "outputs": []
    }
  ]
}